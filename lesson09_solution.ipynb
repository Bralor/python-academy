{
 "cells": [
  {
   "cell_type": "markdown",
   "metadata": {},
   "source": [
    "# Engeto, Python akademie 2021, lekce#09"
   ]
  },
  {
   "cell_type": "markdown",
   "metadata": {},
   "source": [
    "<img src=https://www.codeitbro.com/wp-content/uploads/2020/07/funny-python-programming-meme-8-python-is-easier-to-learn.jpg width=\"400\">\n",
    "\n",
    "## Obsah lekce\n",
    "1. Chyby v Pythonu\n",
    "2. Syntaxe `try/except/else/finally`\n",
    "3. Debugging, obecne\n",
    "4. Debugging pomoci funkci\n",
    "5. Debugging pomoci modulu Pdb\n",
    "6. Debugging pomoci PyCharmu\n",
    "\n",
    "## Dulezite odkazy\n",
    "- [Oficialni dokumentace, PyCharm debugger (jetbrains.com)](https://www.jetbrains.com/help/pycharm/debugging-your-first-python-application.html#debug)\n",
    "- [Oficialni dokumentace, seznam & hierarchie vyjimek (python.org)](https://docs.python.org/3/library/exceptions.html)\n",
    "- [Oficialni dokumentace, Pdb (Python debugger)(python.org)](https://docs.python.org/3/library/pdb.html)\n",
    "- [Neoficialni zdroj, seznam nejpouzivanejsich linteru pro Python (slant.co)](https://www.slant.co/topics/2692/~best-python-code-linters)"
   ]
  },
  {
   "cell_type": "markdown",
   "metadata": {},
   "source": [
    "## 1. Chyby v Pythonu\n",
    "\n",
    "Chybu nebo splest se muze kazdy. Programatori nejsou vyjimkou. Chyba v nasem zapisu zpusobi, ze program **selze** nebo nebude fungovat tak, **jak puvodne zamyslime**. <br />\n",
    "\n",
    "Obecne se chyby v nekterych (OOP) programovacich jazycich oznacuji jako vyjimky, _exceptions_.<br />\n",
    "\n",
    "V zasade muzeme chyby v Pythonu rozlisit na 3 typy:\n",
    "1. **Syntakticke chyby** - nedodrzeni predpisu jazyka Python\n",
    "2. **Behove chyby** - chyba se projevi az pri prekladani naseho kodu\n",
    "3. **Logicke chyby** - kod funguje jinak nez bylo zamyslene\n",
    "\n",
    "### Syntakticke chyby"
   ]
  },
  {
   "cell_type": "code",
   "execution_count": null,
   "metadata": {
    "scrolled": true
   },
   "outputs": [],
   "source": [
    "if \"@\" in \"matous@matous.cz\"  # TODO\n",
    "    print(\"Pravda\")\n",
    "else:\n",
    "    print(\"Neni pravda\")"
   ]
  },
  {
   "cell_type": "markdown",
   "metadata": {},
   "source": [
    "Cim vice radku kodu napiseme, tim rychleji se naucime tomuto typu chyb branit.<br />\n",
    "\n",
    "Dalsim efektivnim nastrojem proti temto chybam jsou pomocne nastroje(obecne _linting_)(napr. pylint, flake8, aj.).<br />\n",
    "PyCharm takovy zabudovany _zvyraznovac_ ma."
   ]
  },
  {
   "cell_type": "markdown",
   "metadata": {},
   "source": [
    "### Behove chyby"
   ]
  },
  {
   "cell_type": "code",
   "execution_count": null,
   "metadata": {},
   "outputs": [],
   "source": [
    "def vrat_polovinu(cislo: int) -> float:\n",
    "    return float(cislo) / 2"
   ]
  },
  {
   "cell_type": "code",
   "execution_count": null,
   "metadata": {},
   "outputs": [],
   "source": [
    "for cislo in (1, 2, 3, 4, 5):\n",
    "    print(vrat_polovinu(cislo))"
   ]
  },
  {
   "cell_type": "code",
   "execution_count": null,
   "metadata": {},
   "outputs": [],
   "source": [
    "for cislo in (1, 2, 3, \"A\", 5):  # TODO\n",
    "    print(vrat_polovinu(cislo))"
   ]
  },
  {
   "cell_type": "markdown",
   "metadata": {},
   "source": [
    "### Logicke chyby"
   ]
  },
  {
   "cell_type": "code",
   "execution_count": null,
   "metadata": {},
   "outputs": [],
   "source": [
    "x = 3\n",
    "y = 5\n",
    "\n",
    "prumer = x + y / 2  # TODO\n",
    "print(prumer)"
   ]
  },
  {
   "cell_type": "markdown",
   "metadata": {},
   "source": [
    "## 2. Syntaxe `try/except/else/finally`\n",
    "\n",
    "**Predstavme si tuto situaci:**<br />\n",
    "Jste programator a Vas nadrizeny vam da ukol napsat kratky program. Vzdaleny program generuje k vam do slozky textovy soubor obsahujici nazvy **zemi** a **hlavnich mest** velkymi pismeny.<br />\n",
    "\n",
    "Vy mate tyto udaje prevest na format, kdy zustane velke pouze uvodni pismeno, zbytek malym pismem. Pro ucely lekce staci vysledek vypsat pomoci funkce `print`.<br />\n",
    "\n",
    "**Potrebujeme tedy vypracovat nasledujici:**\n",
    "1. Program by mel byt **opakovane pouzitelny** do budoucna.\n",
    "2. **Otevreme** tento soubor pomoci Pythonu & **ulozime** jeho obsah\n",
    "3. V textovem souboru je nakonci string ukoncujici beh vzdaleneho programu `\"quit\"` (resp. posledni udaj). Pokud tedy narazime na tento string, ukoncime proces. Jinak prevadime udaje.\n",
    "4. Udaje jsou velkym pismem v tomto formatu: `ZEME, MESTO`\n",
    "5. Chceme je prevest na: `Zeme,mesto`"
   ]
  },
  {
   "cell_type": "markdown",
   "metadata": {},
   "source": [
    "### Otevreme soubor & precteme obsah"
   ]
  },
  {
   "cell_type": "code",
   "execution_count": null,
   "metadata": {},
   "outputs": [],
   "source": [
    "with open(\"countries_and_cities.txt\", mode=\"r\", encoding=\"utf-8\") as txt_s:\n",
    "    obsah = txt_s.readlines()"
   ]
  },
  {
   "cell_type": "markdown",
   "metadata": {},
   "source": [
    "Nyni zkontrolujeme hodnotu promenne `obsah`:"
   ]
  },
  {
   "cell_type": "code",
   "execution_count": null,
   "metadata": {},
   "outputs": [],
   "source": [
    "print(obsah)"
   ]
  },
  {
   "cell_type": "markdown",
   "metadata": {},
   "source": [
    "Nyni muzeme otevirat obsah souboru `countries_and_cities.txt` pomoci nasich instrukci. Pokud chceme, aby toto otevirani souboru bylo vsestranejsi, napise stavajici zapis pomoci funkce:"
   ]
  },
  {
   "cell_type": "code",
   "execution_count": null,
   "metadata": {},
   "outputs": [],
   "source": [
    "def nacti_txt_soubor(jmeno: str, enc: str = \"utf-8\") -> list:\n",
    "    with open(jmeno, mode=\"r\", encoding=enc) as txt_s:\n",
    "        return txt_s.readlines()"
   ]
  },
  {
   "cell_type": "markdown",
   "metadata": {},
   "source": [
    "Pokud v tomto pripade zavolame funkci `nacti_txt_soubor()` s prislusnym jmenem souboru, dostaneme stejny vystup:"
   ]
  },
  {
   "cell_type": "code",
   "execution_count": null,
   "metadata": {},
   "outputs": [],
   "source": [
    "print(nacti_txt_soubor(\"countries_and_cities.txt\"))"
   ]
  },
  {
   "cell_type": "markdown",
   "metadata": {},
   "source": [
    "### Syntaxe `try/except`:\n",
    "Problem muze nastat, pokud uzivatel **nezada platne jmeno** textoveho souboru.<br />\n",
    "V nasledujici ukazce **umyslne zkomolime** jmeno text. souboru a sledujeme, co se stane;"
   ]
  },
  {
   "cell_type": "code",
   "execution_count": null,
   "metadata": {},
   "outputs": [],
   "source": [
    "nacti_txt_soubor(\"counries_and_cities.txt\")"
   ]
  },
  {
   "cell_type": "markdown",
   "metadata": {},
   "source": [
    "Pomoci vetve `try` v nasem zapise interpret informuji o tom, ze ma dane instrukce vyzkouset. Pokud se objevi vyjimka, provedu instrukce uvnitr vetve `except`:"
   ]
  },
  {
   "cell_type": "code",
   "execution_count": null,
   "metadata": {},
   "outputs": [],
   "source": [
    "import os"
   ]
  },
  {
   "cell_type": "code",
   "execution_count": null,
   "metadata": {},
   "outputs": [],
   "source": [
    "def nacti_txt_soubor(jmeno: str, enc: str = \"utf-8\") -> list:\n",
    "    try:\n",
    "        with open(jmeno, mode=\"r\", encoding=enc) as txt_s:\n",
    "            return txt_s.readlines()\n",
    "\n",
    "    except FileNotFoundError:\n",
    "        print(\n",
    "            f\"SOUBOR: {jmeno} NENALEZEN!\",\n",
    "            f\"\\nADRESAR: {os.getcwd()}\",\n",
    "            f\"\\nOBSAHUJE: {os.listdir()}\", sep=\"\\n\"\n",
    "        )"
   ]
  },
  {
   "cell_type": "markdown",
   "metadata": {},
   "source": [
    "_pozn._ pokud chceme odchytavat **vice vyjimek**, muzeme jich specifikovat soucasne.<br />\n",
    "```python\n",
    "try:\n",
    "    # nas zapis\n",
    "\n",
    "except FileNotFoundError:\n",
    "    # proved, pokud se objevi FileNotFoundError vyjimka\n",
    "\n",
    "except ValueError:\n",
    "    # proved, pokud se objevi ValueError vyjimka\n",
    "```\n",
    "\n",
    "Jakmile mame funkci osetrenou syntaxi `try/except`. Doplnime vhodny vystup pro uzivatele."
   ]
  },
  {
   "cell_type": "code",
   "execution_count": null,
   "metadata": {},
   "outputs": [],
   "source": [
    "nacti_txt_soubor(\"counries_and_cities.txt\")"
   ]
  },
  {
   "cell_type": "markdown",
   "metadata": {},
   "source": [
    "### Syntaxe `try/except/else`:\n",
    "Pokud testuji nejakou syntaxi ve vetvi `try` a nenastane vyjimka, spustim nasledne instrukce nachazejici se ve vetvi `else`:"
   ]
  },
  {
   "cell_type": "code",
   "execution_count": 1,
   "metadata": {},
   "outputs": [],
   "source": [
    "import os"
   ]
  },
  {
   "cell_type": "code",
   "execution_count": null,
   "metadata": {},
   "outputs": [],
   "source": [
    "def nacti_txt_soubor(jmeno: str, enc: str = \"utf-8\") -> list:\n",
    "    try:\n",
    "        with open(jmeno, mode=\"r\", encoding=enc) as txt_s:\n",
    "            obsah = txt_s.readlines()\n",
    "\n",
    "    except FileNotFoundError:\n",
    "        print(\n",
    "            f\"SOUBOR: {jmeno} NENALEZEN!\",\n",
    "            f\"\\nADRESAR: {os.getcwd()}\",\n",
    "            f\"\\nOBSAHUJE: {os.listdir()}\", sep=\"\\n\"\n",
    "        )\n",
    "    else:\n",
    "        print(f\"SOUBOR: {jmeno} NACTEN\")\n",
    "        return obsah"
   ]
  },
  {
   "cell_type": "markdown",
   "metadata": {},
   "source": [
    "Spustime funkci s predpisem `try/except/else`:"
   ]
  },
  {
   "cell_type": "code",
   "execution_count": null,
   "metadata": {},
   "outputs": [],
   "source": [
    "nacti_txt_soubor(\"countries_and_cities.txt\")"
   ]
  },
  {
   "cell_type": "markdown",
   "metadata": {},
   "source": [
    "### Syntaxe `try/except/else/finally`"
   ]
  },
  {
   "cell_type": "markdown",
   "metadata": {},
   "source": [
    "Konecne vetev `finally` a instrukce uvnitr se spusti v kazdem scenari. Tedy pokud vyjimka nastane, pripadne nenastane:"
   ]
  },
  {
   "cell_type": "code",
   "execution_count": 2,
   "metadata": {},
   "outputs": [],
   "source": [
    "def nacti_txt_soubor(jmeno: str, enc: str = \"utf-8\") -> list:\n",
    "    try:\n",
    "        with open(jmeno, mode=\"r\", encoding=enc) as txt_s:\n",
    "            obsah = txt_s.readlines()\n",
    "\n",
    "    except FileNotFoundError:\n",
    "        print(\n",
    "            f\"SOUBOR: {jmeno} NENALEZEN!\",\n",
    "            f\"\\nADRESAR: {os.getcwd()}\",\n",
    "            f\"\\nOBSAHUJE: {os.listdir()}\", sep=\"\\n\"\n",
    "        )\n",
    "    else:\n",
    "        print(f\"SOUBOR: {jmeno} NACTEN\")\n",
    "        return obsah\n",
    "    finally:\n",
    "        print(f\"UKONCUJI FUNKCI: nacti_txt_soubor\\n\")"
   ]
  },
  {
   "cell_type": "markdown",
   "metadata": {},
   "source": [
    "### Shrnuti poznatku:\n",
    "1. Syntaxe `try` se pokousi provest kod\n",
    "2. Syntaxe `expcetion` se spusti, pokud se objevi vyjimka\n",
    "3. Syntace `else` se spusti, pokud se neobjevi vyjimka\n",
    "4. Syntaxe `finally` se spusti v obou pripadech\n",
    "\n",
    "### FAQ\n",
    "1. Kde teda mam `try/except/else/finally` pouzit?\n",
    "2. Muzu syntaxi pouzivat nespravne?\n",
    "3. Obejdu se tedy bez ni?\n",
    "4. Musim vyjimku specifikovat? Nestaci `except`?"
   ]
  },
  {
   "cell_type": "markdown",
   "metadata": {},
   "source": [
    "### Iterace pres seznam"
   ]
  },
  {
   "cell_type": "code",
   "execution_count": null,
   "metadata": {},
   "outputs": [],
   "source": [
    "for udaj in nacti_txt_soubor(\"countries_and_cities.txt\"):\n",
    "    print(f\"{udaj=}\")"
   ]
  },
  {
   "cell_type": "markdown",
   "metadata": {},
   "source": [
    "Pokud narazime na nas pomocny string `quit`, ukoncime proces. V opacnem pripade chceme rozdelit `udaj` na `zeme` + `mesto`:<br />"
   ]
  },
  {
   "cell_type": "code",
   "execution_count": null,
   "metadata": {},
   "outputs": [],
   "source": [
    "for udaj in nacti_txt_soubor(\"countries_and_cities.txt\"):\n",
    "    if \"quit\" in udaj.lower():\n",
    "        break\n",
    "    else:\n",
    "        zeme, mesto = udaj.split(\", \")\n",
    "        print(f\"{zeme=:<20} {mesto=}\")"
   ]
  },
  {
   "cell_type": "markdown",
   "metadata": {},
   "source": [
    "Udaje nejprve pomoci vhodne metody osetrime a pak prevedeme na zadany format:"
   ]
  },
  {
   "cell_type": "code",
   "execution_count": null,
   "metadata": {},
   "outputs": [],
   "source": [
    "for udaj in nacti_txt_soubor(\"countries_and_cities.txt\"):\n",
    "    if \"quit\" in udaj.lower():\n",
    "        break\n",
    "    else:\n",
    "        zeme, mesto = udaj.split(\", \")\n",
    "        zeme = zeme.title()\n",
    "        mesto = mesto.strip().title()\n",
    "        print(f\"{zeme=:<20} {mesto=}\")"
   ]
  },
  {
   "cell_type": "markdown",
   "metadata": {},
   "source": [
    "_pozn._ aktualne kod nefunguje tak jak by mel. Pote, co prevede `Dominican Republic` a `Santo Domingo` skoni a nepokrauje dale."
   ]
  },
  {
   "cell_type": "markdown",
   "metadata": {},
   "source": [
    "## 3. Debugging, obecne\n",
    "\n",
    "Zatim co, odchytani vyjimek pomoci `try/except/else` (**error handling**) muze zabranit **behovym** chybam pomerne efektivne, zabranit **logickym** chybam muze byt obtiznejsi.<br />\n",
    "\n",
    "Obecne je tedy proces _debugovani_ metoda, kterou odstranime z naseho zapisu chyby.<br />\n",
    "\n",
    "## 4. Debugging, pomoci funkci\n",
    "1. Funkce `print` - prvnim a nejjednodussi krok je casto vhodne umistena funkce, ktera vypise konkretni promenne, prip. jejich datove typy."
   ]
  },
  {
   "cell_type": "code",
   "execution_count": null,
   "metadata": {},
   "outputs": [],
   "source": [
    "def vrat_polovinu(cislo: int) -> float:\n",
    "    return cislo/2"
   ]
  },
  {
   "cell_type": "code",
   "execution_count": null,
   "metadata": {},
   "outputs": [],
   "source": [
    "VZOROVY_TUPLE = (1, 2, 3, \"A\", 5, 6, 7)\n",
    "\n",
    "for cislo in (1, 2, 3, \"A\", 5):\n",
    "    print(cislo, type(cislo), sep=\", \")\n",
    "    print({vrat_polovinu(cislo)})"
   ]
  },
  {
   "cell_type": "markdown",
   "metadata": {},
   "source": [
    "2. Funkce `vars` - druha pomocna funkce umoznuje vypsat vsechny odkazy a jejih hodnoty z daneho prostredi:"
   ]
  },
  {
   "cell_type": "code",
   "execution_count": null,
   "metadata": {},
   "outputs": [],
   "source": [
    "def func(pomocna: str = \"index\", *args) -> None:\n",
    "    for arg in args:\n",
    "        vysledek = f\"index_{arg}\"\n",
    "    print(vars())"
   ]
  },
  {
   "cell_type": "code",
   "execution_count": null,
   "metadata": {},
   "outputs": [],
   "source": [
    "func(1, 2, 3)"
   ]
  },
  {
   "cell_type": "markdown",
   "metadata": {},
   "source": [
    "<br />\n",
    "<img src=\"https://cubiclenate.files.wordpress.com/2018/04/terminal-icon.png?w=286&h=286\" width=\"100\">\n",
    "\n",
    "## 5. Debugging pomoci modulu Pdb\n",
    "Debugovani pomoci prikazoveho radku (vyhodne, pokud nemame dostupne zadne ide)<br />\n",
    "\n",
    "V prikazovem radku napiste:\n",
    "```bash\n",
    "$ python -m pdb <jmeno_souboru>.py\n",
    "```\n",
    "\n",
    "Nyni se nachazime v interaktivnim prostredi `Pdb` (pro napovedu `?`). Prostredi muze vypadat nasledovne:\n",
    "```bash\n",
    "> absolutni/cesta/k/souboru/..\n",
    "-> __doc__\n",
    "(Pdb)\n",
    "```\n",
    "```bash\n",
    "(Pdb) ?\n",
    "```\n",
    "Nejprve musime umistit tzv. _breakpoint_. Jde o klicovy prvek v debugovani obecne. Pokud interpret prochazi nas zapis a narazi na toto misto, prubeh zastavi.<br />\n",
    "Pokud nenajde breakpoint, skonci jakmile dojde nakonec.<br />\n",
    "\n",
    "**Tradicni** workflow:<br />\n",
    "```bash\n",
    "b <cislo_radku>        # nastavi breakpoint na konkretni radek\n",
    "b                      # vypise vsechny breakpointy\n",
    "clear <cislo_pointu>   # odstrani specificky breakpoint\n",
    "continue               # projde do konce/breakpointu (zkr. c)\n",
    "p                      # kontroluje vyraz (jeho hodnotu)\n",
    "list                   # zobrazi puvodni kod\n",
    "s                      # posune nas o krok vpred\n",
    "```\n",
    "<br />\n",
    "<img src=\"https://insmac.org/uploads/posts/2017-08/1503175868_pycharm.png\" width=\"100\">\n",
    "\n",
    "## 6. Debugging pomoci PyCharmu\n",
    "\n",
    "Spustime PyCharm, otevreme soubor, ktery chceme debugovat a umistime breakpoint/(y). Spustime debugovani nastroj pomoci tlacitka **Debug**.<br />\n",
    "\n",
    "Abychom se mohli v kodu posunout, pouzivame tlacitko na leve liste **Resume program**. Prubeh muzete sledovat v konzoli debuggeru.\n",
    "\n",
    "V debuggeru primo sledujeme aktualni odkazy a jejich hodnoty. Pripadne komentare objevujici se v pracovnim editoru PyCharm.\n"
   ]
  },
  {
   "cell_type": "markdown",
   "metadata": {},
   "source": [
    "## Opravime nas zapis"
   ]
  },
  {
   "cell_type": "code",
   "execution_count": 3,
   "metadata": {},
   "outputs": [
    {
     "name": "stdout",
     "output_type": "stream",
     "text": [
      "SOUBOR: countries_and_cities.txt NACTEN\n",
      "UKONCUJI FUNKCI: nacti_txt_soubor\n",
      "\n",
      "zeme=Afghanistan          mesto='Kabul'\n",
      "zeme=Albania              mesto='Tirana'\n",
      "zeme=Algeria              mesto='Algiers'\n",
      "zeme=Andorra              mesto='Andorra La Vella'\n",
      "zeme=Angola               mesto='Luanda'\n",
      "zeme=Antigua & Barbuda    mesto=\"Saint John'S\"\n",
      "zeme=Argentina            mesto='Buenos Aires'\n",
      "zeme=Armenia              mesto='Yerevan'\n",
      "zeme=Australia            mesto='Canberra'\n",
      "zeme=Austria              mesto='Vienna'\n",
      "zeme=Azerbaijan           mesto='Baku'\n",
      "zeme=Bahamas              mesto='The Nassau'\n",
      "zeme=Bahrain              mesto='Manama'\n",
      "zeme=Bangladesh           mesto='Dhaka'\n",
      "zeme=Barbados             mesto='Bridgetown'\n",
      "zeme=Belarus              mesto='Minsk'\n",
      "zeme=Belgium              mesto='Brussels'\n",
      "zeme=Belize               mesto='Belmopan'\n",
      "zeme=Benin                mesto='Porto-Novo'\n",
      "zeme=Bhutan               mesto='Thimphu'\n",
      "zeme=Bolivia              mesto='Sucre'\n",
      "zeme=Bosnia & Herzegovina mesto='Sarajevo'\n",
      "zeme=Botswana             mesto='Gaborone'\n",
      "zeme=Brazil               mesto='Brasilia'\n",
      "zeme=Brunei               mesto='Bandar Seri Begawan'\n",
      "zeme=Bulgaria             mesto='Sofia'\n",
      "zeme=Burkina Faso         mesto='Ouagadougou'\n",
      "zeme=Burundi              mesto='Bujumbura'\n",
      "zeme=Cabo Verde           mesto='Praia'\n",
      "zeme=Cambodia             mesto='Phnom Penh'\n",
      "zeme=Cameroon             mesto='Yaounde'\n",
      "zeme=Canada               mesto='Ottawa'\n",
      "zeme=Central African Republic mesto='Bangui'\n",
      "zeme=Chad                 mesto=\"N'Djamena\"\n",
      "zeme=Chile                mesto='Santiago'\n",
      "zeme=China                mesto='Beijing'\n",
      "zeme=Colombia             mesto='Bogotá'\n",
      "zeme=Comoros              mesto='Moroni'\n",
      "zeme=Congo                mesto='Democratic Republic Of The Kinshasa'\n",
      "zeme=Costa Rica           mesto='San Jose'\n",
      "zeme=Côte D'Ivoire        mesto='Yamoussoukro'\n",
      "zeme=Croatia              mesto='Zagreb'\n",
      "zeme=Cuba                 mesto='Havana'\n",
      "zeme=Cyprus               mesto='Nicosia'\n",
      "zeme=Czech Republic       mesto='Prague'\n",
      "zeme=Denmark              mesto='Copenhagen'\n",
      "zeme=Djibouti             mesto='Djibouti (City)'\n",
      "zeme=Dominica             mesto='Roseau'\n",
      "zeme=Dominican Republic   mesto='Santo Domingo'\n",
      "zeme=Ecuador              mesto='Quito'\n",
      "zeme=Egypt                mesto='Cairo'\n",
      "zeme=El Salvador          mesto='San Salvador'\n",
      "zeme=Equatorial Guinea    mesto='Malabo'\n",
      "zeme=Eritrea              mesto='Asmara'\n",
      "zeme=Estonia              mesto='Tallinn'\n",
      "zeme=Eswatini             mesto='Mbabane'\n",
      "zeme=Ethiopia             mesto='Addis Ababa'\n",
      "zeme=Federated States Of Micronesia mesto='Palikir'\n",
      "zeme=Fiji                 mesto='Suva'\n",
      "zeme=Finland              mesto='Helsinki'\n",
      "zeme=France               mesto='Paris'\n",
      "zeme=Gabon                mesto='Libreville'\n",
      "zeme=Gambia               mesto='The Banjul'\n",
      "zeme=Georgia              mesto='Tbilisi'\n",
      "zeme=Germany              mesto='Berlin'\n",
      "zeme=Ghana                mesto='Accra'\n",
      "zeme=Greece               mesto='Athens'\n",
      "zeme=Grenada              mesto=\"Saint George'S\"\n",
      "zeme=Guatemala            mesto='Guatemala City'\n",
      "zeme=Guinea               mesto='Conakry'\n",
      "zeme=Guinea-Bissau        mesto='Bissau'\n",
      "zeme=Guyana               mesto='Georgetown'\n",
      "zeme=Haiti                mesto='Port-Au-Prince'\n",
      "zeme=Honduras             mesto='Tegucigalpa'\n",
      "zeme=Hungary              mesto='Budapest'\n",
      "zeme=Iceland              mesto='Reykjavik'\n",
      "zeme=India                mesto='New Delhi'\n",
      "zeme=Indonesia            mesto='Jakarta'\n",
      "zeme=Iran                 mesto='Tehran'\n",
      "zeme=Iraq                 mesto='Baghdad'\n",
      "zeme=Ireland              mesto='Dublin'\n",
      "zeme=Israel               mesto='Jerusalem'\n",
      "zeme=Italy                mesto='Rome'\n",
      "zeme=Jamaica              mesto='Kingston'\n",
      "zeme=Japan                mesto='Tokyo'\n",
      "zeme=Jordan               mesto='Amman'\n",
      "zeme=Kazakhstan           mesto='Nur-Sultan'\n",
      "zeme=Kenya                mesto='Nairobi'\n",
      "zeme=Kiribati             mesto='South Tarawa'\n",
      "zeme=Kosovo               mesto='Pristina'\n",
      "zeme=Kuwait               mesto='Kuwait City'\n",
      "zeme=Kyrgyzstan           mesto='Bishkek'\n",
      "zeme=Laos                 mesto='Vientiane'\n",
      "zeme=Latvia               mesto='Riga'\n",
      "zeme=Lebanon              mesto='Beirut'\n",
      "zeme=Lesotho              mesto='Maseru'\n",
      "zeme=Liberia              mesto='Monrovia'\n",
      "zeme=Libya                mesto='Tripoli'\n",
      "zeme=Liechtenstein        mesto='Vaduz'\n",
      "zeme=Lithuania            mesto='Vilnius'\n",
      "zeme=Luxembourg           mesto='Luxembourg'\n",
      "zeme=Madagascar           mesto='Antananarivo'\n",
      "zeme=Malawi               mesto='Lilongwe'\n",
      "zeme=Malaysia             mesto='Kuala Lumpur'\n",
      "zeme=Maldives             mesto='Male'\n",
      "zeme=Mali                 mesto='Bamako'\n",
      "zeme=Malta                mesto='Valletta'\n",
      "zeme=Marshall Islands     mesto='Majuro'\n",
      "zeme=Mauritania           mesto='Nouakchott'\n",
      "zeme=Mauritius            mesto='Port Louis'\n",
      "zeme=Mexico               mesto='Mexico City'\n",
      "zeme=Moldova              mesto='Chisinau'\n",
      "zeme=Monaco               mesto='Monaco'\n",
      "zeme=Mongolia             mesto='Ulaanbaatar'\n",
      "zeme=Montenegro           mesto='Podgorica'\n",
      "zeme=Morocco              mesto='Rabat'\n",
      "zeme=Mozambique           mesto='Maputo'\n",
      "zeme=Myanmar              mesto='Nay Pyi Taw'\n",
      "zeme=Namibia              mesto='Windhoek'\n",
      "zeme=Nauru                mesto='Yaren District'\n",
      "zeme=Nepal                mesto='Kathmandu'\n",
      "zeme=Netherlands          mesto='Amsterdam'\n",
      "zeme=New Zealand          mesto='Wellington'\n",
      "zeme=Nicaragua            mesto='Managua'\n",
      "zeme=Niger                mesto='Niamey'\n",
      "zeme=Nigeria              mesto='Abuja'\n",
      "zeme=North Korea          mesto='Pyongyang'\n",
      "zeme=North Macedonia      mesto='Skopje'\n",
      "zeme=Norway               mesto='Oslo'\n",
      "zeme=Oman                 mesto='Muscat'\n",
      "zeme=Pakistan             mesto='Islamabad'\n",
      "zeme=Palau                mesto='Ngerulmud'\n",
      "zeme=Palestine            mesto='East Jerusalem'\n",
      "zeme=Panama               mesto='Panama City'\n",
      "zeme=Papua New Guinea     mesto='Port Moresby'\n",
      "zeme=Paraguay             mesto='Asunción'\n",
      "zeme=Peru                 mesto='Lima'\n",
      "zeme=Philippines          mesto='Manila'\n",
      "zeme=Poland               mesto='Warsaw'\n",
      "zeme=Portugal             mesto='Lisbon'\n",
      "zeme=Qatar                mesto='Doha'\n",
      "zeme=Republic Of The Congo mesto='Brazzaville'\n",
      "zeme=Romania              mesto='Bucharest'\n",
      "zeme=Russia               mesto='Moscow'\n",
      "zeme=Rwanda               mesto='Kigali'\n",
      "zeme=Saint Kitts & Nevis  mesto='Basseterre'\n",
      "zeme=Saint Lucia          mesto='Castries'\n",
      "zeme=Saint Vincent & The Grenadines mesto='Kingstown'\n",
      "zeme=Samoa                mesto='Apia'\n",
      "zeme=San Marino           mesto='San Marino'\n",
      "zeme=São Tomé & Príncipe  mesto='São Tomé'\n",
      "zeme=Saudi Arabia         mesto='Riyadh'\n",
      "zeme=Senegal              mesto='Dakar'\n",
      "zeme=Serbia               mesto='Belgrade'\n",
      "zeme=Seychelles           mesto='Victoria'\n",
      "zeme=Sierra Leone         mesto='Freetown'\n",
      "zeme=Singapore            mesto='Singapore'\n",
      "zeme=Slovakia             mesto='Bratislava'\n",
      "zeme=Slovenia             mesto='Ljubljana'\n",
      "zeme=Solomon Islands      mesto='Honiara'\n",
      "zeme=Somalia              mesto='Mogadishu'\n",
      "zeme=South Africa         mesto='Cape Town'\n",
      "zeme=South Korea          mesto='Seoul'\n",
      "zeme=South Sudan          mesto='Juba'\n",
      "zeme=Spain                mesto='Madrid'\n",
      "zeme=Sri Lanka            mesto='Colombo'\n",
      "zeme=Sudan                mesto='Khartoum'\n",
      "zeme=Suriname             mesto='Paramaribo'\n",
      "zeme=Sweden               mesto='Stockholm'\n",
      "zeme=Switzerland          mesto='Bern'\n",
      "zeme=Syria                mesto='Damascus'\n",
      "zeme=Tajikistan           mesto='Dushanbe'\n",
      "zeme=Tanzania             mesto='Dodoma'\n",
      "zeme=Thailand             mesto='Bangkok'\n",
      "zeme=Timor-Leste          mesto='Dili'\n",
      "zeme=Togo                 mesto='Lomé'\n",
      "zeme=Tonga                mesto='NukuʻAlofa'\n",
      "zeme=Trinidad & Tobago    mesto='Port Of Spain'\n",
      "zeme=Tunisia              mesto='Tunis'\n",
      "zeme=Turkey               mesto='Ankara'\n",
      "zeme=Turkmenistan         mesto='Ashgabat'\n",
      "zeme=Tuvalu               mesto='Funafuti'\n",
      "zeme=Uganda               mesto='Kampala'\n",
      "zeme=Ukraine              mesto='Kiev'\n",
      "zeme=United Arab Emirates mesto='Abu Dhabi'\n",
      "zeme=United Kingdom*      mesto='London'\n",
      "zeme=United States        mesto='Washington'\n",
      "zeme=Uruguay              mesto='Montevideo'\n",
      "zeme=Uzbekistan           mesto='Tashkent'\n",
      "zeme=Vanuatu              mesto='Port Vila'\n",
      "zeme=Vatican City         mesto='Vatican City'\n",
      "zeme=Venezuela            mesto='Caracas'\n",
      "zeme=Vietnam              mesto='Hanoi'\n",
      "zeme=Yemen                mesto=\"Sana'A\"\n",
      "zeme=Zambia               mesto='Lusaka'\n",
      "zeme=Zimbabwe             mesto='Harare'\n"
     ]
    }
   ],
   "source": [
    "JMENO_SOUBORU = \"countries_and_cities.txt\"\n",
    "\n",
    "for udaj in nacti_txt_soubor(JMENO_SOUBORU):\n",
    "    if udaj == \"quit\":\n",
    "        break\n",
    "    else:\n",
    "        zeme, mesto = udaj.split(\", \")\n",
    "        zeme = zeme.title()\n",
    "        mesto = mesto.strip().title()\n",
    "        print(f\"{zeme=:<20} {mesto=}\")"
   ]
  }
 ],
 "metadata": {
  "kernelspec": {
   "display_name": "Python 3",
   "language": "python",
   "name": "python3"
  },
  "language_info": {
   "codemirror_mode": {
    "name": "ipython",
    "version": 3
   },
   "file_extension": ".py",
   "mimetype": "text/x-python",
   "name": "python",
   "nbconvert_exporter": "python",
   "pygments_lexer": "ipython3",
   "version": "3.8.5"
  }
 },
 "nbformat": 4,
 "nbformat_minor": 4
}
