{
 "cells": [
  {
   "cell_type": "markdown",
   "metadata": {},
   "source": [
    "# Engeto, Python akademie 2021, lekce#09"
   ]
  },
  {
   "cell_type": "markdown",
   "metadata": {},
   "source": [
    "<img src=https://www.codeitbro.com/wp-content/uploads/2020/07/funny-python-programming-meme-8-python-is-easier-to-learn.jpg width=\"400\">\n",
    "\n",
    "## Obsah lekce\n",
    "1. Chyby v Pythonu\n",
    "2. Syntaxe `try/except/else/finally`\n",
    "3. Debugging, obecne\n",
    "4. Debugging pomoci funkci\n",
    "5. Debugging pomoci modulu Pdb\n",
    "6. Debugging pomoci PyCharmu\n",
    "\n",
    "## Dulezite odkazy\n",
    "- [Oficialni dokumentace, PyCharm debugger (jetbrains.com)](https://www.jetbrains.com/help/pycharm/debugging-your-first-python-application.html#debug)\n",
    "- [Oficialni dokumentace, seznam & hierarchie vyjimek (python.org)](https://docs.python.org/3/library/exceptions.html)\n",
    "- [Oficialni dokumentace, Pdb (Python debugger)(python.org)](https://docs.python.org/3/library/pdb.html)\n",
    "- [Neoficialni zdroj, seznam nejpouzivanejsich linteru pro Python (slant.co)](https://www.slant.co/topics/2692/~best-python-code-linters)"
   ]
  },
  {
   "cell_type": "markdown",
   "metadata": {},
   "source": [
    "## 1. Chyby v Pythonu\n",
    "\n",
    "Chybu nebo splest se muze kazdy. Programatori nejsou vyjimkou. Chyba v nasem zapisu zpusobi, ze program **selze** nebo nebude fungovat tak, **jak puvodne zamyslime**. <br />\n",
    "\n",
    "Obecne se chyby v nekterych (OOP) programovacich jazycich oznacuji jako vyjimky, _exceptions_.<br />\n",
    "\n",
    "V zasade muzeme chyby v Pythonu rozlisit na 3 typy:\n",
    "1. **Syntakticke chyby** - nedodrzeni predpisu jazyka Python\n",
    "2. **Behove chyby** - chyba se projevi az pri prekladani naseho kodu\n",
    "3. **Logicke chyby** - kod funguje jinak nez bylo zamyslene\n",
    "\n",
    "### Syntakticke chyby"
   ]
  },
  {
   "cell_type": "code",
   "execution_count": null,
   "metadata": {
    "scrolled": true
   },
   "outputs": [],
   "source": [
    "if \"@\" in \"matous@matous.cz\":\n",
    "    print(\"Pravda\")\n",
    "else:\n",
    "    print(\"Neni pravda\")"
   ]
  },
  {
   "cell_type": "markdown",
   "metadata": {},
   "source": [
    "Cim vice radku kodu napiseme, tim rychleji se naucime tomuto typu chyb branit.<br />\n",
    "\n",
    "Dalsim efektivnim nastrojem proti temto chybam jsou pomocne nastroje(obecne _linting_)(napr. pylint, flake8, aj.).<br />\n",
    "PyCharm takovy zabudovany _zvyraznovac_ ma."
   ]
  },
  {
   "cell_type": "markdown",
   "metadata": {},
   "source": [
    "### Behove chyby"
   ]
  },
  {
   "cell_type": "code",
   "execution_count": null,
   "metadata": {},
   "outputs": [],
   "source": [
    "def vrat_polovinu(cislo: int) -> float:\n",
    "    return float(cislo) / 2"
   ]
  },
  {
   "cell_type": "code",
   "execution_count": null,
   "metadata": {},
   "outputs": [],
   "source": [
    "for cislo in (1, 2, 3, 4, 5):\n",
    "    print(vrat_polovinu(cislo))"
   ]
  },
  {
   "cell_type": "code",
   "execution_count": null,
   "metadata": {},
   "outputs": [],
   "source": [
    "for cislo in (1, 2, 3, \"A\", 5):\n",
    "    if str(cislo).isnumeric():\n",
    "        print(vrat_polovinu(cislo))"
   ]
  },
  {
   "cell_type": "code",
   "execution_count": null,
   "metadata": {},
   "outputs": [],
   "source": [
    "for cislo in (1, 2, 3, \"A\", 5):\n",
    "    if isinstance(cislo, int):\n",
    "        print(vrat_polovinu(cislo))\n",
    "    else:\n",
    "        print(f\"Symbol neni datovy typ: int/float\")"
   ]
  },
  {
   "cell_type": "markdown",
   "metadata": {},
   "source": [
    "### Logicke chyby"
   ]
  },
  {
   "cell_type": "code",
   "execution_count": null,
   "metadata": {},
   "outputs": [],
   "source": [
    "x = 3\n",
    "y = 5\n",
    "\n",
    "prumer = (x + y) / 2\n",
    "print(prumer)"
   ]
  },
  {
   "cell_type": "markdown",
   "metadata": {},
   "source": [
    "## 2. Syntaxe `try/except/else/finally`\n",
    "\n",
    "**Predstavme si tuto situaci:**<br />\n",
    "Jste programator a Vas nadrizeny vam da ukol napsat kratky program. Vzdaleny program generuje k vam do slozky textovy soubor obsahujici nazvy **zemi** a **hlavnich mest** velkymi pismeny.<br />\n",
    "\n",
    "Vy mate tyto udaje prevest na format, kdy zustane velke pouze uvodni pismeno, zbytek malym pismem. Pro ucely lekce staci vysledek vypsat pomoci funkce `print`.<br />\n",
    "\n",
    "**Potrebujeme tedy vypracovat nasledujici:**\n",
    "1. Program by mel byt **opakovane pouzitelny** do budoucna.\n",
    "2. **Otevreme** tento soubor pomoci Pythonu & **ulozime** jeho obsah\n",
    "3. V textovem souboru je nakonci string ukoncujici beh vzdaleneho programu `\"quit\"` (resp. posledni udaj). Pokud tedy narazime na tento string, ukoncime proces. Jinak prevadime udaje.\n",
    "4. Udaje jsou velkym pismem v tomto formatu: `ZEME, MESTO`\n",
    "5. Chceme je prevest na: `Zeme,Mesto`"
   ]
  },
  {
   "cell_type": "markdown",
   "metadata": {},
   "source": [
    "### Otevreme soubor & precteme obsah"
   ]
  },
  {
   "cell_type": "code",
   "execution_count": null,
   "metadata": {},
   "outputs": [],
   "source": [
    "# TODO\n",
    "# objekt_repr_soubor = open(\"countries_and_cities.txt\", \"r\", encoding=\"utf-8\")\n",
    "\n",
    "with open(\"countries_and_cities.txt\", \"r\", encoding=\"utf-8\") as txt_s:\n",
    "    obsah = txt_s.readlines()"
   ]
  },
  {
   "cell_type": "markdown",
   "metadata": {},
   "source": [
    "Nyni zkontrolujeme hodnotu promenne `obsah`:"
   ]
  },
  {
   "cell_type": "code",
   "execution_count": null,
   "metadata": {},
   "outputs": [],
   "source": [
    "print(obsah)"
   ]
  },
  {
   "cell_type": "markdown",
   "metadata": {},
   "source": [
    "Nyni muzeme otevirat obsah souboru `countries_and_cities.txt` pomoci nasich instrukci. Pokud chceme, aby toto otevirani souboru bylo vsestranejsi, napise stavajici zapis pomoci funkce:"
   ]
  },
  {
   "cell_type": "code",
   "execution_count": null,
   "metadata": {},
   "outputs": [],
   "source": [
    "def nacti_txt_soubor(jmeno: str, enc: str = \"utf-8\") -> list:\n",
    "    with open(jmeno, \"r\", encoding=enc) as txt_s:\n",
    "        return txt_s.readlines()"
   ]
  },
  {
   "cell_type": "markdown",
   "metadata": {},
   "source": [
    "Pokud v tomto pripade zavolame funkci `nacti_txt_soubor()` s prislusnym jmenem souboru, dostaneme stejny vystup:"
   ]
  },
  {
   "cell_type": "code",
   "execution_count": null,
   "metadata": {},
   "outputs": [],
   "source": [
    "print(nacti_txt_soubor(\"countries_and_cities.txt\"))"
   ]
  },
  {
   "cell_type": "markdown",
   "metadata": {},
   "source": [
    "### Syntaxe `try/except`:\n",
    "Problem muze nastat, pokud uzivatel **nezada platne jmeno** textoveho souboru.<br />\n",
    "V nasledujici ukazce **umyslne zkomolime** jmeno text. souboru a sledujeme, co se stane;"
   ]
  },
  {
   "cell_type": "code",
   "execution_count": null,
   "metadata": {},
   "outputs": [],
   "source": [
    "nacti_txt_soubor(\"counries_and_cities.txt\")"
   ]
  },
  {
   "cell_type": "markdown",
   "metadata": {},
   "source": [
    "Pomoci vetve `try` v nasem zapise interpret informuji o tom, ze ma dane instrukce vyzkouset. Pokud se objevi vyjimka, provedu instrukce uvnitr vetve `except`:"
   ]
  },
  {
   "cell_type": "code",
   "execution_count": null,
   "metadata": {},
   "outputs": [],
   "source": [
    "import os"
   ]
  },
  {
   "cell_type": "code",
   "execution_count": null,
   "metadata": {},
   "outputs": [],
   "source": [
    "def nacti_txt_soubor(jmeno: str, enc: str = \"utf-8\") -> list:\n",
    "    try:\n",
    "        with open(jmeno, \"r\", encoding=enc) as txt_s:\n",
    "            return txt_s.readlines()\n",
    "\n",
    "    except FileNotFoundError:\n",
    "        print(f\"SOUBOR: {jmeno} NEEXISTUJE!\")"
   ]
  },
  {
   "cell_type": "markdown",
   "metadata": {},
   "source": [
    "_pozn._ pokud chceme odchytavat **vice vyjimek**, muzeme jich specifikovat soucasne.<br />\n",
    "```python\n",
    "try:\n",
    "    # nas zapis\n",
    "\n",
    "except FileNotFoundError:\n",
    "    # proved, pokud se objevi FileNotFoundError vyjimka\n",
    "\n",
    "except ValueError:\n",
    "    # proved, pokud se objevi ValueError vyjimka\n",
    "```\n",
    "\n",
    "Jakmile mame funkci osetrenou syntaxi `try/except`. Doplnime vhodny vystup pro uzivatele."
   ]
  },
  {
   "cell_type": "code",
   "execution_count": null,
   "metadata": {},
   "outputs": [],
   "source": [
    "nacti_txt_soubor(\"counries_and_cities.txt\")"
   ]
  },
  {
   "cell_type": "markdown",
   "metadata": {},
   "source": [
    "### Syntaxe `try/except/else`:\n",
    "Pokud testuji nejakou syntaxi ve vetvi `try` a nenastane vyjimka, spustim nasledne instrukce nachazejici se ve vetvi `else`:"
   ]
  },
  {
   "cell_type": "code",
   "execution_count": 1,
   "metadata": {},
   "outputs": [],
   "source": [
    "import os"
   ]
  },
  {
   "cell_type": "code",
   "execution_count": null,
   "metadata": {},
   "outputs": [],
   "source": [
    "def nacti_txt_soubor(jmeno: str, enc: str = \"utf-8\") -> list:\n",
    "    try:\n",
    "        with open(jmeno, \"r\", encoding=enc) as txt_s:\n",
    "            obsah = txt_s.readlines()\n",
    "\n",
    "    except FileNotFoundError:\n",
    "        print(f\"SOUBOR: {jmeno} NEEXISTUJE!\", f\"\\nADRESAR: {os.getcwd()}\",\n",
    "             f\"\\nOBSAHUJE: {os.listdir()}\", sep=\"\\n\")\n",
    "        \n",
    "    else:\n",
    "        return obsah"
   ]
  },
  {
   "cell_type": "markdown",
   "metadata": {},
   "source": [
    "Spustime funkci s predpisem `try/except/else`:"
   ]
  },
  {
   "cell_type": "code",
   "execution_count": null,
   "metadata": {
    "scrolled": false
   },
   "outputs": [],
   "source": [
    "nacti_txt_soubor(\"countries_and_cities.txt\")"
   ]
  },
  {
   "cell_type": "code",
   "execution_count": null,
   "metadata": {},
   "outputs": [],
   "source": [
    "nacti_txt_soubor(\"countries_and_cities.txt\")"
   ]
  },
  {
   "cell_type": "markdown",
   "metadata": {},
   "source": [
    "### Syntaxe `try/except/else/finally`"
   ]
  },
  {
   "cell_type": "markdown",
   "metadata": {},
   "source": [
    "Konecne vetev `finally` a instrukce uvnitr se spusti v kazdem scenari. Tedy pokud vyjimka nastane, pripadne nenastane:"
   ]
  },
  {
   "cell_type": "code",
   "execution_count": 2,
   "metadata": {},
   "outputs": [],
   "source": [
    "def nacti_txt_soubor(jmeno: str, enc: str = \"utf-8\") -> list:\n",
    "    try:\n",
    "        with open(jmeno, \"r\", encoding=enc) as txt_s:\n",
    "            obsah = txt_s.readlines()\n",
    "    except FileNotFoundError:\n",
    "        print(f\"SOUBOR: {jmeno} NEEXISTUJE!\", f\"\\nADRESAR: {os.getcwd()}\",\n",
    "             f\"\\nOBSAHUJE: {os.listdir()}\\n\", sep=\"\\n\")\n",
    "    else:\n",
    "        print(f\"SOUBOR: {jmeno} NACTEN\\n\")\n",
    "        return obsah\n",
    "    finally:\n",
    "        print(f\"UKONCUJI FUNKCI: nacti_txt_soubor\\n\")"
   ]
  },
  {
   "cell_type": "code",
   "execution_count": null,
   "metadata": {},
   "outputs": [],
   "source": [
    "nacti_txt_soubor(\"countries_and_cities.txt\")"
   ]
  },
  {
   "cell_type": "code",
   "execution_count": null,
   "metadata": {},
   "outputs": [],
   "source": [
    "nacti_txt_soubor(\"counties_and_cities.txt\")"
   ]
  },
  {
   "cell_type": "markdown",
   "metadata": {},
   "source": [
    "### Shrnuti poznatku:\n",
    "1. Syntaxe `try` se pokousi provest kod\n",
    "2. Syntaxe `expcetion` se spusti, pokud se objevi vyjimka\n",
    "3. Syntace `else` se spusti, pokud se neobjevi vyjimka\n",
    "4. Syntaxe `finally` se spusti v obou pripadech\n",
    "\n",
    "### FAQ\n",
    "1. Kde teda mam `try/except/else/finally` pouzit?\n",
    "2. Muzu syntaxi pouzivat nespravne?\n",
    "3. Obejdu se tedy bez ni?\n",
    "4. Musim vyjimku specifikovat? Nestaci `except`?"
   ]
  },
  {
   "cell_type": "markdown",
   "metadata": {},
   "source": [
    "### Iterace pres seznam"
   ]
  },
  {
   "cell_type": "code",
   "execution_count": 3,
   "metadata": {},
   "outputs": [
    {
     "name": "stdout",
     "output_type": "stream",
     "text": [
      "SOUBOR: countries_and_cities.txt NACTEN\n",
      "\n",
      "UKONCUJI FUNKCI: nacti_txt_soubor\n",
      "\n",
      "udaj='AFGHANISTAN, KABUL\\n'\n",
      "udaj='ALBANIA, TIRANA\\n'\n",
      "udaj='ALGERIA, ALGIERS\\n'\n",
      "udaj='ANDORRA, ANDORRA LA VELLA\\n'\n",
      "udaj='ANGOLA, LUANDA\\n'\n",
      "udaj=\"ANTIGUA & BARBUDA, SAINT JOHN'S\\n\"\n",
      "udaj='ARGENTINA, BUENOS AIRES\\n'\n",
      "udaj='ARMENIA, YEREVAN\\n'\n",
      "udaj='AUSTRALIA, CANBERRA\\n'\n",
      "udaj='AUSTRIA, VIENNA\\n'\n",
      "udaj='AZERBAIJAN, BAKU\\n'\n",
      "udaj='BAHAMAS, THE NASSAU\\n'\n",
      "udaj='BAHRAIN, MANAMA\\n'\n",
      "udaj='BANGLADESH, DHAKA\\n'\n",
      "udaj='BARBADOS, BRIDGETOWN\\n'\n",
      "udaj='BELARUS, MINSK\\n'\n",
      "udaj='BELGIUM, BRUSSELS\\n'\n",
      "udaj='BELIZE, BELMOPAN\\n'\n",
      "udaj='BENIN, PORTO-NOVO\\n'\n",
      "udaj='BHUTAN, THIMPHU\\n'\n",
      "udaj='BOLIVIA, SUCRE\\n'\n",
      "udaj='BOSNIA & HERZEGOVINA, SARAJEVO\\n'\n",
      "udaj='BOTSWANA, GABORONE\\n'\n",
      "udaj='BRAZIL, BRASILIA\\n'\n",
      "udaj='BRUNEI, BANDAR SERI BEGAWAN\\n'\n",
      "udaj='BULGARIA, SOFIA\\n'\n",
      "udaj='BURKINA FASO, OUAGADOUGOU\\n'\n",
      "udaj='BURUNDI, BUJUMBURA\\n'\n",
      "udaj='CABO VERDE, PRAIA\\n'\n",
      "udaj='CAMBODIA, PHNOM PENH\\n'\n",
      "udaj='CAMEROON, YAOUNDE\\n'\n",
      "udaj='CANADA, OTTAWA\\n'\n",
      "udaj='CENTRAL AFRICAN REPUBLIC, BANGUI\\n'\n",
      "udaj=\"CHAD, N'DJAMENA\\n\"\n",
      "udaj='CHILE, SANTIAGO\\n'\n",
      "udaj='CHINA, BEIJING\\n'\n",
      "udaj='COLOMBIA, BOGOTÁ\\n'\n",
      "udaj='COMOROS, MORONI\\n'\n",
      "udaj='CONGO, DEMOCRATIC REPUBLIC OF THE KINSHASA\\n'\n",
      "udaj='COSTA RICA, SAN JOSE\\n'\n",
      "udaj=\"CÔTE D'IVOIRE, YAMOUSSOUKRO\\n\"\n",
      "udaj='CROATIA, ZAGREB\\n'\n",
      "udaj='CUBA, HAVANA\\n'\n",
      "udaj='CYPRUS, NICOSIA\\n'\n",
      "udaj='CZECH REPUBLIC, PRAGUE\\n'\n",
      "udaj='DENMARK, COPENHAGEN\\n'\n",
      "udaj='DJIBOUTI, DJIBOUTI (CITY)\\n'\n",
      "udaj='DOMINICA, ROSEAU\\n'\n",
      "udaj='DOMINICAN REPUBLIC, SANTO DOMINGO\\n'\n",
      "udaj='ECUADOR, QUITO\\n'\n",
      "udaj='EGYPT, CAIRO\\n'\n",
      "udaj='EL SALVADOR, SAN SALVADOR\\n'\n",
      "udaj='EQUATORIAL GUINEA, MALABO\\n'\n",
      "udaj='ERITREA, ASMARA\\n'\n",
      "udaj='ESTONIA, TALLINN\\n'\n",
      "udaj='ESWATINI, MBABANE\\n'\n",
      "udaj='ETHIOPIA, ADDIS ABABA\\n'\n",
      "udaj='FEDERATED STATES OF MICRONESIA, PALIKIR\\n'\n",
      "udaj='FIJI, SUVA\\n'\n",
      "udaj='FINLAND, HELSINKI\\n'\n",
      "udaj='FRANCE, PARIS\\n'\n",
      "udaj='GABON, LIBREVILLE\\n'\n",
      "udaj='GAMBIA, THE BANJUL\\n'\n",
      "udaj='GEORGIA, TBILISI\\n'\n",
      "udaj='GERMANY, BERLIN\\n'\n",
      "udaj='GHANA, ACCRA\\n'\n",
      "udaj='GREECE, ATHENS\\n'\n",
      "udaj=\"GRENADA, SAINT GEORGE'S\\n\"\n",
      "udaj='GUATEMALA, GUATEMALA CITY\\n'\n",
      "udaj='GUINEA, CONAKRY\\n'\n",
      "udaj='GUINEA-BISSAU, BISSAU\\n'\n",
      "udaj='GUYANA, GEORGETOWN\\n'\n",
      "udaj='HAITI, PORT-AU-PRINCE\\n'\n",
      "udaj='HONDURAS, TEGUCIGALPA\\n'\n",
      "udaj='HUNGARY, BUDAPEST\\n'\n",
      "udaj='ICELAND, REYKJAVIK\\n'\n",
      "udaj='INDIA, NEW DELHI\\n'\n",
      "udaj='INDONESIA, JAKARTA\\n'\n",
      "udaj='IRAN, TEHRAN\\n'\n",
      "udaj='IRAQ, BAGHDAD\\n'\n",
      "udaj='IRELAND, DUBLIN\\n'\n",
      "udaj='ISRAEL, JERUSALEM\\n'\n",
      "udaj='ITALY, ROME\\n'\n",
      "udaj='JAMAICA, KINGSTON\\n'\n",
      "udaj='JAPAN, TOKYO\\n'\n",
      "udaj='JORDAN, AMMAN\\n'\n",
      "udaj='KAZAKHSTAN, NUR-SULTAN\\n'\n",
      "udaj='KENYA, NAIROBI\\n'\n",
      "udaj='KIRIBATI, SOUTH TARAWA\\n'\n",
      "udaj='KOSOVO, PRISTINA\\n'\n",
      "udaj='KUWAIT, KUWAIT CITY\\n'\n",
      "udaj='KYRGYZSTAN, BISHKEK\\n'\n",
      "udaj='LAOS, VIENTIANE\\n'\n",
      "udaj='LATVIA, RIGA\\n'\n",
      "udaj='LEBANON, BEIRUT\\n'\n",
      "udaj='LESOTHO, MASERU\\n'\n",
      "udaj='LIBERIA, MONROVIA\\n'\n",
      "udaj='LIBYA, TRIPOLI\\n'\n",
      "udaj='LIECHTENSTEIN, VADUZ\\n'\n",
      "udaj='LITHUANIA, VILNIUS\\n'\n",
      "udaj='LUXEMBOURG, LUXEMBOURG\\n'\n",
      "udaj='MADAGASCAR, ANTANANARIVO\\n'\n",
      "udaj='MALAWI, LILONGWE\\n'\n",
      "udaj='MALAYSIA, KUALA LUMPUR\\n'\n",
      "udaj='MALDIVES, MALE\\n'\n",
      "udaj='MALI, BAMAKO\\n'\n",
      "udaj='MALTA, VALLETTA\\n'\n",
      "udaj='MARSHALL ISLANDS, MAJURO\\n'\n",
      "udaj='MAURITANIA, NOUAKCHOTT\\n'\n",
      "udaj='MAURITIUS, PORT LOUIS\\n'\n",
      "udaj='MEXICO, MEXICO CITY\\n'\n",
      "udaj='MOLDOVA, CHISINAU\\n'\n",
      "udaj='MONACO, MONACO\\n'\n",
      "udaj='MONGOLIA, ULAANBAATAR\\n'\n",
      "udaj='MONTENEGRO, PODGORICA\\n'\n",
      "udaj='MOROCCO, RABAT\\n'\n",
      "udaj='MOZAMBIQUE, MAPUTO\\n'\n",
      "udaj='MYANMAR, NAY PYI TAW\\n'\n",
      "udaj='NAMIBIA, WINDHOEK\\n'\n",
      "udaj='NAURU, YAREN DISTRICT\\n'\n",
      "udaj='NEPAL, KATHMANDU\\n'\n",
      "udaj='NETHERLANDS, AMSTERDAM\\n'\n",
      "udaj='NEW ZEALAND, WELLINGTON\\n'\n",
      "udaj='NICARAGUA, MANAGUA\\n'\n",
      "udaj='NIGER, NIAMEY\\n'\n",
      "udaj='NIGERIA, ABUJA\\n'\n",
      "udaj='NORTH KOREA, PYONGYANG\\n'\n",
      "udaj='NORTH MACEDONIA, SKOPJE\\n'\n",
      "udaj='NORWAY, OSLO\\n'\n",
      "udaj='OMAN, MUSCAT\\n'\n",
      "udaj='PAKISTAN, ISLAMABAD\\n'\n",
      "udaj='PALAU, NGERULMUD\\n'\n",
      "udaj='PALESTINE, EAST JERUSALEM\\n'\n",
      "udaj='PANAMA, PANAMA CITY\\n'\n",
      "udaj='PAPUA NEW GUINEA, PORT MORESBY\\n'\n",
      "udaj='PARAGUAY, ASUNCIÓN\\n'\n",
      "udaj='PERU, LIMA\\n'\n",
      "udaj='PHILIPPINES, MANILA\\n'\n",
      "udaj='POLAND, WARSAW\\n'\n",
      "udaj='PORTUGAL, LISBON\\n'\n",
      "udaj='QATAR, DOHA\\n'\n",
      "udaj='REPUBLIC OF THE CONGO, BRAZZAVILLE\\n'\n",
      "udaj='ROMANIA, BUCHAREST\\n'\n",
      "udaj='RUSSIA, MOSCOW\\n'\n",
      "udaj='RWANDA, KIGALI\\n'\n",
      "udaj='SAINT KITTS & NEVIS, BASSETERRE\\n'\n",
      "udaj='SAINT LUCIA, CASTRIES\\n'\n",
      "udaj='SAINT VINCENT & THE GRENADINES, KINGSTOWN\\n'\n",
      "udaj='SAMOA, APIA\\n'\n",
      "udaj='SAN MARINO, SAN MARINO\\n'\n",
      "udaj='SÃO TOMÉ & PRÍNCIPE, SÃO TOMÉ\\n'\n",
      "udaj='SAUDI ARABIA, RIYADH\\n'\n",
      "udaj='SENEGAL, DAKAR\\n'\n",
      "udaj='SERBIA, BELGRADE\\n'\n",
      "udaj='SEYCHELLES, VICTORIA\\n'\n",
      "udaj='SIERRA LEONE, FREETOWN\\n'\n",
      "udaj='SINGAPORE, SINGAPORE\\n'\n",
      "udaj='SLOVAKIA, BRATISLAVA\\n'\n",
      "udaj='SLOVENIA, LJUBLJANA\\n'\n",
      "udaj='SOLOMON ISLANDS, HONIARA\\n'\n",
      "udaj='SOMALIA, MOGADISHU\\n'\n",
      "udaj='SOUTH AFRICA, CAPE TOWN\\n'\n",
      "udaj='SOUTH KOREA, SEOUL\\n'\n",
      "udaj='SOUTH SUDAN, JUBA\\n'\n",
      "udaj='SPAIN, MADRID\\n'\n",
      "udaj='SRI LANKA, COLOMBO\\n'\n",
      "udaj='SUDAN, KHARTOUM\\n'\n",
      "udaj='SURINAME, PARAMARIBO\\n'\n",
      "udaj='SWEDEN, STOCKHOLM\\n'\n",
      "udaj='SWITZERLAND, BERN\\n'\n",
      "udaj='SYRIA, DAMASCUS\\n'\n",
      "udaj='TAJIKISTAN, DUSHANBE\\n'\n",
      "udaj='TANZANIA, DODOMA\\n'\n",
      "udaj='THAILAND, BANGKOK\\n'\n",
      "udaj='TIMOR-LESTE, DILI\\n'\n",
      "udaj='TOGO, LOMÉ\\n'\n",
      "udaj='TONGA, NUKUʻALOFA\\n'\n",
      "udaj='TRINIDAD & TOBAGO, PORT OF SPAIN\\n'\n",
      "udaj='TUNISIA, TUNIS\\n'\n",
      "udaj='TURKEY, ANKARA\\n'\n",
      "udaj='TURKMENISTAN, ASHGABAT\\n'\n",
      "udaj='TUVALU, FUNAFUTI\\n'\n",
      "udaj='UGANDA, KAMPALA\\n'\n",
      "udaj='UKRAINE, KIEV\\n'\n",
      "udaj='UNITED ARAB EMIRATES, ABU DHABI\\n'\n",
      "udaj='UNITED KINGDOM*, LONDON\\n'\n",
      "udaj='UNITED STATES, WASHINGTON\\n'\n",
      "udaj='URUGUAY, MONTEVIDEO\\n'\n",
      "udaj='UZBEKISTAN, TASHKENT\\n'\n",
      "udaj='VANUATU, PORT VILA\\n'\n",
      "udaj='VATICAN CITY, VATICAN CITY\\n'\n",
      "udaj='VENEZUELA, CARACAS\\n'\n",
      "udaj='VIETNAM, HANOI\\n'\n",
      "udaj=\"YEMEN, SANA'A\\n\"\n",
      "udaj='ZAMBIA, LUSAKA\\n'\n",
      "udaj='ZIMBABWE, HARARE\\n'\n",
      "udaj='quit'\n"
     ]
    }
   ],
   "source": [
    "for udaj in nacti_txt_soubor(\"countries_and_cities.txt\"):\n",
    "    print(f\"{udaj=}\")"
   ]
  },
  {
   "cell_type": "markdown",
   "metadata": {},
   "source": [
    "Pokud narazime na nas pomocny string `quit`, ukoncime proces. V opacnem pripade chceme rozdelit `udaj` na `zeme` + `mesto`:<br />"
   ]
  },
  {
   "cell_type": "code",
   "execution_count": null,
   "metadata": {},
   "outputs": [],
   "source": [
    "for udaj in nacti_txt_soubor(\"countries_and_cities.txt\"):\n",
    "    if \"quit\" in udaj.lower():\n",
    "        break\n",
    "    else:\n",
    "        zeme, mesto = udaj.split(\", \")  # 'AFGHANISTAN, KABUL\\n' -> [\"AFGHANISTAN\", \"KABUL\\n\"]\n",
    "        print(f\"{zeme=:<20} {mesto=}\")"
   ]
  },
  {
   "cell_type": "markdown",
   "metadata": {},
   "source": [
    "Udaje nejprve pomoci vhodne metody osetrime a pak prevedeme na zadany format:"
   ]
  },
  {
   "cell_type": "code",
   "execution_count": 10,
   "metadata": {
    "scrolled": true
   },
   "outputs": [
    {
     "name": "stdout",
     "output_type": "stream",
     "text": [
      "SOUBOR: countries_and_cities.txt NACTEN\n",
      "\n",
      "UKONCUJI FUNKCI: nacti_txt_soubor\n",
      "\n",
      "zeme=Afghanistan          mesto='Kabul'\n",
      "zeme=Albania              mesto='Tirana'\n",
      "zeme=Algeria              mesto='Algiers'\n",
      "zeme=Andorra              mesto='Andorra La Vella'\n",
      "zeme=Angola               mesto='Luanda'\n",
      "zeme=Antigua & Barbuda    mesto=\"Saint John'S\"\n",
      "zeme=Argentina            mesto='Buenos Aires'\n",
      "zeme=Armenia              mesto='Yerevan'\n",
      "zeme=Australia            mesto='Canberra'\n",
      "zeme=Austria              mesto='Vienna'\n",
      "zeme=Azerbaijan           mesto='Baku'\n",
      "zeme=Bahamas              mesto='The Nassau'\n",
      "zeme=Bahrain              mesto='Manama'\n",
      "zeme=Bangladesh           mesto='Dhaka'\n",
      "zeme=Barbados             mesto='Bridgetown'\n",
      "zeme=Belarus              mesto='Minsk'\n",
      "zeme=Belgium              mesto='Brussels'\n",
      "zeme=Belize               mesto='Belmopan'\n",
      "zeme=Benin                mesto='Porto-Novo'\n",
      "zeme=Bhutan               mesto='Thimphu'\n",
      "zeme=Bolivia              mesto='Sucre'\n",
      "zeme=Bosnia & Herzegovina mesto='Sarajevo'\n",
      "zeme=Botswana             mesto='Gaborone'\n",
      "zeme=Brazil               mesto='Brasilia'\n",
      "zeme=Brunei               mesto='Bandar Seri Begawan'\n",
      "zeme=Bulgaria             mesto='Sofia'\n",
      "zeme=Burkina Faso         mesto='Ouagadougou'\n",
      "zeme=Burundi              mesto='Bujumbura'\n",
      "zeme=Cabo Verde           mesto='Praia'\n",
      "zeme=Cambodia             mesto='Phnom Penh'\n",
      "zeme=Cameroon             mesto='Yaounde'\n",
      "zeme=Canada               mesto='Ottawa'\n",
      "zeme=Central African Republic mesto='Bangui'\n",
      "zeme=Chad                 mesto=\"N'Djamena\"\n",
      "zeme=Chile                mesto='Santiago'\n",
      "zeme=China                mesto='Beijing'\n",
      "zeme=Colombia             mesto='Bogotá'\n",
      "zeme=Comoros              mesto='Moroni'\n",
      "zeme=Congo                mesto='Democratic Republic Of The Kinshasa'\n",
      "zeme=Costa Rica           mesto='San Jose'\n",
      "zeme=Côte D'Ivoire        mesto='Yamoussoukro'\n",
      "zeme=Croatia              mesto='Zagreb'\n",
      "zeme=Cuba                 mesto='Havana'\n",
      "zeme=Cyprus               mesto='Nicosia'\n",
      "zeme=Czech Republic       mesto='Prague'\n",
      "zeme=Denmark              mesto='Copenhagen'\n",
      "zeme=Djibouti             mesto='Djibouti (City)'\n",
      "zeme=Dominica             mesto='Roseau'\n",
      "zeme=Dominican Republic   mesto='Santo Domingo'\n"
     ]
    }
   ],
   "source": [
    "for udaj in nacti_txt_soubor(\"countries_and_cities.txt\"):\n",
    "    if \"quit\" in udaj.lower():\n",
    "        break\n",
    "    else:\n",
    "        zeme, mesto = udaj.split(\", \")\n",
    "        zeme = zeme.title()# \"AFGHANISTAN\" -> \"Afghanistan\"\n",
    "        mesto = mesto.strip().title()\n",
    "        print(f\"{zeme=:<20} {mesto=}\")"
   ]
  },
  {
   "cell_type": "markdown",
   "metadata": {},
   "source": [
    "_pozn._ aktualne kod nefunguje tak jak by mel. Pote, co prevede `Dominican Republic` a `Santo Domingo` skoni a nepokrauje dale."
   ]
  },
  {
   "cell_type": "markdown",
   "metadata": {},
   "source": [
    "## 3. Debugging, obecne\n",
    "\n",
    "Zatim co, odchytani vyjimek pomoci `try/except/else` (**error handling**) muze zabranit **behovym** chybam pomerne efektivne, zabranit **logickym** chybam muze byt obtiznejsi.<br />\n",
    "\n",
    "Obecne je tedy proces _debugovani_ metoda, kterou odstranime z naseho zapisu chyby.<br />\n",
    "\n",
    "## 4. Debugging, pomoci funkci\n",
    "1. Funkce `print` - prvnim a nejjednodussi krok je casto vhodne umistena funkce, ktera vypise konkretni promenne, prip. jejich datove typy."
   ]
  },
  {
   "cell_type": "code",
   "execution_count": 11,
   "metadata": {},
   "outputs": [],
   "source": [
    "def vrat_polovinu(cislo: int) -> float:\n",
    "    return cislo / 2  # \"A\" / 2"
   ]
  },
  {
   "cell_type": "code",
   "execution_count": null,
   "metadata": {},
   "outputs": [],
   "source": [
    "VZOROVY_TUPLE = (1, 2, 3, \"A\", 5, 6, 7)\n",
    "\n",
    "for cislo in (1, 2, 3, \"A\", 5):\n",
    "    print(cislo, type(cislo))\n",
    "    print(vrat_polovinu(cislo))"
   ]
  },
  {
   "cell_type": "markdown",
   "metadata": {},
   "source": [
    "2. Funkce `vars` - druha pomocna funkce umoznuje vypsat vsechny odkazy a jejich hodnoty z daneho prostredi:"
   ]
  },
  {
   "cell_type": "code",
   "execution_count": 19,
   "metadata": {},
   "outputs": [],
   "source": [
    "def func(*args) -> None:\n",
    "    for arg in args:\n",
    "        vysledek = f\"index_{arg}\"\n",
    "    print(vars())"
   ]
  },
  {
   "cell_type": "code",
   "execution_count": 21,
   "metadata": {},
   "outputs": [
    {
     "name": "stdout",
     "output_type": "stream",
     "text": [
      "{'args': (1, 2, 3), 'arg': 3, 'vysledek': 'index_3'}\n"
     ]
    }
   ],
   "source": [
    "func(1, 2, 3)"
   ]
  },
  {
   "cell_type": "markdown",
   "metadata": {},
   "source": [
    "<br />\n",
    "<img src=\"https://cubiclenate.files.wordpress.com/2018/04/terminal-icon.png?w=286&h=286\" width=\"100\">\n",
    "\n",
    "## 5. Debugging pomoci modulu Pdb\n",
    "Debugovani pomoci prikazoveho radku (vyhodne, pokud nemame dostupne zadne ide)<br />\n",
    "\n",
    "V prikazovem radku napiste:\n",
    "```bash\n",
    "$ python -m pdb <jmeno_souboru>.py\n",
    "```\n",
    "\n",
    "Nyni se nachazime v interaktivnim prostredi `Pdb` (pro napovedu `?`). Prostredi muze vypadat nasledovne:\n",
    "```bash\n",
    "> absolutni/cesta/k/souboru/..\n",
    "-> __doc__\n",
    "(Pdb)\n",
    "```\n",
    "```bash\n",
    "(Pdb) ?\n",
    "```\n",
    "Nejprve musime umistit tzv. _breakpoint_. Jde o klicovy prvek v debugovani obecne. Pokud interpret prochazi nas zapis a narazi na toto misto, prubeh zastavi.<br />\n",
    "Pokud nenajde breakpoint, skonci jakmile dojde nakonec.<br />\n",
    "\n",
    "**Tradicni** workflow:<br />\n",
    "```bash\n",
    "b <cislo_radku>        # nastavi breakpoint na konkretni radek\n",
    "b                      # vypise vsechny breakpointy\n",
    "clear <cislo_pointu>   # odstrani specificky breakpoint\n",
    "continue               # projde do konce/breakpointu (zkr. c)\n",
    "p                      # kontroluje vyraz (jeho hodnotu)\n",
    "list                   # zobrazi puvodni kod\n",
    "s                      # posune nas o krok vpred\n",
    "```\n",
    "<br />\n",
    "<img src=\"https://insmac.org/uploads/posts/2017-08/1503175868_pycharm.png\" width=\"100\">\n",
    "\n",
    "## 6. Debugging pomoci PyCharmu\n",
    "\n",
    "Spustime PyCharm, otevreme soubor, ktery chceme debugovat a umistime breakpoint/(y). Spustime debugovani nastroj pomoci tlacitka **Debug**.<br />\n",
    "\n",
    "Abychom se mohli v kodu posunout, pouzivame tlacitko na leve liste **Resume program**. Prubeh muzete sledovat v konzoli debuggeru.\n",
    "\n",
    "V debuggeru primo sledujeme aktualni odkazy a jejich hodnoty. Pripadne komentare objevujici se v pracovnim editoru PyCharm.\n"
   ]
  },
  {
   "cell_type": "markdown",
   "metadata": {},
   "source": [
    "## Opravime nas zapis"
   ]
  },
  {
   "cell_type": "code",
   "execution_count": null,
   "metadata": {},
   "outputs": [],
   "source": [
    "JMENO_SOUBORU = \"countries_and_cities.txt\"\n",
    "\n",
    "for udaj in nacti_txt_soubor(JMENO_SOUBORU):\n",
    "    # TODO\n",
    "\n",
    "    else:\n",
    "        # TODO"
   ]
  },
  {
   "cell_type": "code",
   "execution_count": null,
   "metadata": {},
   "outputs": [],
   "source": []
  }
 ],
 "metadata": {
  "kernelspec": {
   "display_name": "Python 3",
   "language": "python",
   "name": "python3"
  },
  "language_info": {
   "codemirror_mode": {
    "name": "ipython",
    "version": 3
   },
   "file_extension": ".py",
   "mimetype": "text/x-python",
   "name": "python",
   "nbconvert_exporter": "python",
   "pygments_lexer": "ipython3",
   "version": "3.8.5"
  }
 },
 "nbformat": 4,
 "nbformat_minor": 4
}
