{
 "cells": [
  {
   "cell_type": "markdown",
   "metadata": {},
   "source": [
    "# Engeto, Python akademie 2021, lekce#09"
   ]
  },
  {
   "cell_type": "markdown",
   "metadata": {},
   "source": [
    "<img src=https://www.codeitbro.com/wp-content/uploads/2020/07/funny-python-programming-meme-8-python-is-easier-to-learn.jpg width=\"400\">\n",
    "\n",
    "## Obsah lekce\n",
    "1. Chyby v Pythonu\n",
    "2. Syntaxe `try/except/else/finally`\n",
    "3. Debugging, obecne\n",
    "4. Debugging pomoci funkci\n",
    "5. Debugging pomoci modulu Pdb\n",
    "6. Debugging pomoci PyCharmu\n",
    "\n",
    "## Dulezite odkazy\n",
    "- [Oficialni dokumentace, PyCharm debugger (jetbrains.com)](https://www.jetbrains.com/help/pycharm/debugging-your-first-python-application.html#debug)\n",
    "- [Oficialni dokumentace, seznam & hierarchie vyjimek (python.org)](https://docs.python.org/3/library/exceptions.html)\n",
    "- [Oficialni dokumentace, Pdb (Python debugger)(python.org)](https://docs.python.org/3/library/pdb.html)\n",
    "- [Neoficialni zdroj, seznam nejpouzivanejsich linteru pro Python (slant.co)](https://www.slant.co/topics/2692/~best-python-code-linters)"
   ]
  },
  {
   "cell_type": "markdown",
   "metadata": {},
   "source": [
    "## 1. Chyby v Pythonu\n",
    "\n",
    "Chybu nebo splest se muze kazdy. Programatori nejsou vyjimkou. Chyba v nasem zapisu zpusobi, ze program **selze** nebo nebude fungovat tak, **jak puvodne zamyslime**. <br />\n",
    "\n",
    "Obecne se chyby v nekterych (OOP) programovacich jazycich oznacuji jako vyjimky, _exceptions_.<br />\n",
    "\n",
    "V zasade muzeme chyby v Pythonu rozlisit na 3 typy:\n",
    "1. **Syntakticke chyby** - nedodrzeni predpisu jazyka Python\n",
    "2. **Behove chyby** - chyba se projevi az pri prekladani naseho kodu\n",
    "3. **Logicke chyby** - kod funguje jinak nez bylo zamyslene\n",
    "\n",
    "### Syntakticke chyby"
   ]
  },
  {
   "cell_type": "code",
   "execution_count": null,
   "metadata": {
    "scrolled": true
   },
   "outputs": [],
   "source": [
    "if \"@\" in \"matous@matous.cz\"  # TODO\n",
    "    print(\"Pravda\")\n",
    "else:\n",
    "    print(\"Neni pravda\")"
   ]
  },
  {
   "cell_type": "markdown",
   "metadata": {},
   "source": [
    "Cim vice radku kodu napiseme, tim rychleji se naucime tomuto typu chyb branit.<br />\n",
    "\n",
    "Dalsim efektivnim nastrojem proti temto chybam jsou pomocne nastroje(obecne _linting_)(napr. pylint, flake8, aj.).<br />\n",
    "PyCharm takovy zabudovany _zvyraznovac_ ma."
   ]
  },
  {
   "cell_type": "markdown",
   "metadata": {},
   "source": [
    "### Behove chyby"
   ]
  },
  {
   "cell_type": "code",
   "execution_count": null,
   "metadata": {},
   "outputs": [],
   "source": [
    "def vrat_polovinu(cislo: int) -> float:\n",
    "    return float(cislo) / 2"
   ]
  },
  {
   "cell_type": "code",
   "execution_count": null,
   "metadata": {},
   "outputs": [],
   "source": [
    "for cislo in (1, 2, 3, 4, 5):\n",
    "    print(vrat_polovinu(cislo))"
   ]
  },
  {
   "cell_type": "code",
   "execution_count": null,
   "metadata": {},
   "outputs": [],
   "source": [
    "for cislo in (1, 2, 3, \"A\", 5):  # TODO\n",
    "    print(vrat_polovinu(cislo))"
   ]
  },
  {
   "cell_type": "markdown",
   "metadata": {},
   "source": [
    "### Logicke chyby"
   ]
  },
  {
   "cell_type": "code",
   "execution_count": null,
   "metadata": {},
   "outputs": [],
   "source": [
    "x = 3\n",
    "y = 5\n",
    "\n",
    "prumer = x + y / 2  # TODO\n",
    "print(prumer)"
   ]
  },
  {
   "cell_type": "markdown",
   "metadata": {},
   "source": [
    "## 2. Syntaxe `try/except/else/finally`\n",
    "\n",
    "**Predstavme si tuto situaci:**<br />\n",
    "Jste programator a Vas nadrizeny vam da ukol napsat kratky program. Vzdaleny program generuje k vam do slozky textovy soubor obsahujici nazvy **zemi** a **hlavnich mest** velkymi pismeny.<br />\n",
    "\n",
    "Vy mate tyto udaje prevest na format, kdy zustane velke pouze uvodni pismeno, zbytek malym pismem. Pro ucely lekce staci vysledek vypsat pomoci funkce `print`.<br />\n",
    "\n",
    "**Potrebujeme tedy vypracovat nasledujici:**\n",
    "1. Program by mel byt **opakovane pouzitelny** do budoucna.\n",
    "2. **Otevreme** tento soubor pomoci Pythonu & **ulozime** jeho obsah\n",
    "3. V textovem souboru je nakonci string ukoncujici beh vzdaleneho programu `\"quit\"` (resp. posledni udaj). Pokud tedy narazime na tento string, ukoncime proces. Jinak prevadime udaje.\n",
    "4. Udaje jsou velkym pismem v tomto formatu: `ZEME, MESTO`\n",
    "5. Chceme je prevest na: `Zeme,mesto`"
   ]
  },
  {
   "cell_type": "markdown",
   "metadata": {},
   "source": [
    "### Otevreme soubor & precteme obsah"
   ]
  },
  {
   "cell_type": "code",
   "execution_count": null,
   "metadata": {},
   "outputs": [],
   "source": [
    "# TODO"
   ]
  },
  {
   "cell_type": "markdown",
   "metadata": {},
   "source": [
    "Nyni zkontrolujeme hodnotu promenne `obsah`:"
   ]
  },
  {
   "cell_type": "code",
   "execution_count": null,
   "metadata": {},
   "outputs": [],
   "source": [
    "print(obsah)"
   ]
  },
  {
   "cell_type": "markdown",
   "metadata": {},
   "source": [
    "Nyni muzeme otevirat obsah souboru `countries_and_cities.txt` pomoci nasich instrukci. Pokud chceme, aby toto otevirani souboru bylo vsestranejsi, napise stavajici zapis pomoci funkce:"
   ]
  },
  {
   "cell_type": "code",
   "execution_count": null,
   "metadata": {},
   "outputs": [],
   "source": [
    "def nacti_txt_soubor():\n",
    "    # TODO"
   ]
  },
  {
   "cell_type": "markdown",
   "metadata": {},
   "source": [
    "Pokud v tomto pripade zavolame funkci `nacti_txt_soubor()` s prislusnym jmenem souboru, dostaneme stejny vystup:"
   ]
  },
  {
   "cell_type": "code",
   "execution_count": null,
   "metadata": {},
   "outputs": [],
   "source": [
    "print(nacti_txt_soubor(\"countries_and_cities.txt\"))"
   ]
  },
  {
   "cell_type": "markdown",
   "metadata": {},
   "source": [
    "### Syntaxe `try/except`:\n",
    "Problem muze nastat, pokud uzivatel **nezada platne jmeno** textoveho souboru.<br />\n",
    "V nasledujici ukazce **umyslne zkomolime** jmeno text. souboru a sledujeme, co se stane;"
   ]
  },
  {
   "cell_type": "code",
   "execution_count": null,
   "metadata": {},
   "outputs": [],
   "source": [
    "nacti_txt_soubor(\"counries_and_cities.txt\")"
   ]
  },
  {
   "cell_type": "markdown",
   "metadata": {},
   "source": [
    "Pomoci vetve `try` v nasem zapise interpret informuji o tom, ze ma dane instrukce vyzkouset. Pokud se objevi vyjimka, provedu instrukce uvnitr vetve `except`:"
   ]
  },
  {
   "cell_type": "code",
   "execution_count": null,
   "metadata": {},
   "outputs": [],
   "source": [
    "import os"
   ]
  },
  {
   "cell_type": "code",
   "execution_count": null,
   "metadata": {},
   "outputs": [],
   "source": [
    "def nacti_txt_soubor(jmeno: str, enc: str = \"utf-8\") -> list:\n",
    "    # TODO"
   ]
  },
  {
   "cell_type": "markdown",
   "metadata": {},
   "source": [
    "_pozn._ pokud chceme odchytavat **vice vyjimek**, muzeme jich specifikovat soucasne.<br />\n",
    "```python\n",
    "try:\n",
    "    # nas zapis\n",
    "\n",
    "except FileNotFoundError:\n",
    "    # proved, pokud se objevi FileNotFoundError vyjimka\n",
    "\n",
    "except ValueError:\n",
    "    # proved, pokud se objevi ValueError vyjimka\n",
    "```\n",
    "\n",
    "Jakmile mame funkci osetrenou syntaxi `try/except`. Doplnime vhodny vystup pro uzivatele."
   ]
  },
  {
   "cell_type": "code",
   "execution_count": null,
   "metadata": {},
   "outputs": [],
   "source": [
    "nacti_txt_soubor(\"counries_and_cities.txt\")"
   ]
  },
  {
   "cell_type": "markdown",
   "metadata": {},
   "source": [
    "### Syntaxe `try/except/else`:\n",
    "Pokud testuji nejakou syntaxi ve vetvi `try` a nenastane vyjimka, spustim nasledne instrukce nachazejici se ve vetvi `else`:"
   ]
  },
  {
   "cell_type": "code",
   "execution_count": null,
   "metadata": {},
   "outputs": [],
   "source": [
    "import os"
   ]
  },
  {
   "cell_type": "code",
   "execution_count": null,
   "metadata": {},
   "outputs": [],
   "source": [
    "def nacti_txt_soubor(jmeno: str, enc: str = \"utf-8\") -> list:\n",
    "    # TODO"
   ]
  },
  {
   "cell_type": "markdown",
   "metadata": {},
   "source": [
    "Spustime funkci s predpisem `try/except/else`:"
   ]
  },
  {
   "cell_type": "code",
   "execution_count": null,
   "metadata": {},
   "outputs": [],
   "source": [
    "nacti_txt_soubor(\"countries_and_cities.txt\")"
   ]
  },
  {
   "cell_type": "markdown",
   "metadata": {},
   "source": [
    "### Syntaxe `try/except/else/finally`"
   ]
  },
  {
   "cell_type": "markdown",
   "metadata": {},
   "source": [
    "Konecne vetev `finally` a instrukce uvnitr se spusti v kazdem scenari. Tedy pokud vyjimka nastane, pripadne nenastane:"
   ]
  },
  {
   "cell_type": "code",
   "execution_count": null,
   "metadata": {},
   "outputs": [],
   "source": [
    "def nacti_txt_soubor(jmeno: str, enc: str = \"utf-8\") -> list:\n",
    "    # TODO"
   ]
  },
  {
   "cell_type": "markdown",
   "metadata": {},
   "source": [
    "### Shrnuti poznatku:\n",
    "1. Syntaxe `try` se pokousi provest kod\n",
    "2. Syntaxe `expcetion` se spusti, pokud se objevi vyjimka\n",
    "3. Syntace `else` se spusti, pokud se neobjevi vyjimka\n",
    "4. Syntaxe `finally` se spusti v obou pripadech\n",
    "\n",
    "### FAQ\n",
    "1. Kde teda mam `try/except/else/finally` pouzit?\n",
    "2. Muzu syntaxi pouzivat nespravne?\n",
    "3. Obejdu se tedy bez ni?\n",
    "4. Musim vyjimku specifikovat? Nestaci `except`?"
   ]
  },
  {
   "cell_type": "markdown",
   "metadata": {},
   "source": [
    "### Iterace pres seznam"
   ]
  },
  {
   "cell_type": "code",
   "execution_count": null,
   "metadata": {},
   "outputs": [],
   "source": [
    "# TODO"
   ]
  },
  {
   "cell_type": "markdown",
   "metadata": {},
   "source": [
    "Pokud narazime na nas pomocny string `quit`, ukoncime proces. V opacnem pripade chceme rozdelit `udaj` na `zeme` + `mesto`:<br />"
   ]
  },
  {
   "cell_type": "code",
   "execution_count": null,
   "metadata": {},
   "outputs": [],
   "source": [
    "# TODO"
   ]
  },
  {
   "cell_type": "markdown",
   "metadata": {},
   "source": [
    "Udaje nejprve pomoci vhodne metody osetrime a pak prevedeme na zadany format:"
   ]
  },
  {
   "cell_type": "code",
   "execution_count": null,
   "metadata": {},
   "outputs": [],
   "source": [
    "# TODO"
   ]
  },
  {
   "cell_type": "markdown",
   "metadata": {},
   "source": [
    "_pozn._ aktualne kod nefunguje tak jak by mel. Pote, co prevede `Dominican Republic` a `Santo Domingo` skoni a nepokrauje dale."
   ]
  },
  {
   "cell_type": "markdown",
   "metadata": {},
   "source": [
    "## 3. Debugging, obecne\n",
    "\n",
    "Zatim co, odchytani vyjimek pomoci `try/except/else` (**error handling**) muze zabranit **behovym** chybam pomerne efektivne, zabranit **logickym** chybam muze byt obtiznejsi.<br />\n",
    "\n",
    "Obecne je tedy proces _debugovani_ metoda, kterou odstranime z naseho zapisu chyby.<br />\n",
    "\n",
    "## 4. Debugging, pomoci funkci\n",
    "1. Funkce `print` - prvnim a nejjednodussi krok je casto vhodne umistena funkce, ktera vypise konkretni promenne, prip. jejich datove typy."
   ]
  },
  {
   "cell_type": "code",
   "execution_count": null,
   "metadata": {},
   "outputs": [],
   "source": [
    "def vrat_polovinu(cislo: int) -> float:\n",
    "    # TODO"
   ]
  },
  {
   "cell_type": "code",
   "execution_count": null,
   "metadata": {},
   "outputs": [],
   "source": [
    "VZOROVY_TUPLE = (1, 2, 3, \"A\", 5, 6, 7)\n",
    "\n",
    "for cislo in (1, 2, 3, \"A\", 5):\n",
    "    print(cislo, type(cislo), sep=\", \")\n",
    "    print({vrat_polovinu(cislo)})"
   ]
  },
  {
   "cell_type": "markdown",
   "metadata": {},
   "source": [
    "2. Funkce `vars` - druha pomocna funkce umoznuje vypsat vsechny odkazy a jejih hodnoty z daneho prostredi:"
   ]
  },
  {
   "cell_type": "code",
   "execution_count": null,
   "metadata": {},
   "outputs": [],
   "source": [
    "def func(pomocna: str = \"index\", *args) -> None:\n",
    "    for arg in args:\n",
    "        vysledek = f\"index_{arg}\"\n",
    "    print(vars())"
   ]
  },
  {
   "cell_type": "code",
   "execution_count": null,
   "metadata": {},
   "outputs": [],
   "source": [
    "func(1, 2, 3)"
   ]
  },
  {
   "cell_type": "markdown",
   "metadata": {},
   "source": [
    "<br />\n",
    "<img src=\"https://cubiclenate.files.wordpress.com/2018/04/terminal-icon.png?w=286&h=286\" width=\"100\">\n",
    "\n",
    "## 5. Debugging pomoci modulu Pdb\n",
    "Debugovani pomoci prikazoveho radku (vyhodne, pokud nemame dostupne zadne ide)<br />\n",
    "\n",
    "V prikazovem radku napiste:\n",
    "```bash\n",
    "$ python -m pdb <jmeno_souboru>.py\n",
    "```\n",
    "\n",
    "Nyni se nachazime v interaktivnim prostredi `Pdb` (pro napovedu `?`). Prostredi muze vypadat nasledovne:\n",
    "```bash\n",
    "> absolutni/cesta/k/souboru/..\n",
    "-> __doc__\n",
    "(Pdb)\n",
    "```\n",
    "```bash\n",
    "(Pdb) ?\n",
    "```\n",
    "Nejprve musime umistit tzv. _breakpoint_. Jde o klicovy prvek v debugovani obecne. Pokud interpret prochazi nas zapis a narazi na toto misto, prubeh zastavi.<br />\n",
    "Pokud nenajde breakpoint, skonci jakmile dojde nakonec.<br />\n",
    "\n",
    "**Tradicni** workflow:<br />\n",
    "```bash\n",
    "b <cislo_radku>        # nastavi breakpoint na konkretni radek\n",
    "b                      # vypise vsechny breakpointy\n",
    "clear <cislo_pointu>   # odstrani specificky breakpoint\n",
    "continue               # projde do konce/breakpointu (zkr. c)\n",
    "p                      # kontroluje vyraz (jeho hodnotu)\n",
    "list                   # zobrazi puvodni kod\n",
    "s                      # posune nas o krok vpred\n",
    "```\n",
    "<br />\n",
    "<img src=\"https://insmac.org/uploads/posts/2017-08/1503175868_pycharm.png\" width=\"100\">\n",
    "\n",
    "## 6. Debugging pomoci PyCharmu\n",
    "\n",
    "Spustime PyCharm, otevreme soubor, ktery chceme debugovat a umistime breakpoint/(y). Spustime debugovani nastroj pomoci tlacitka **Debug**.<br />\n",
    "\n",
    "Abychom se mohli v kodu posunout, pouzivame tlacitko na leve liste **Resume program**. Prubeh muzete sledovat v konzoli debuggeru.\n",
    "\n",
    "V debuggeru primo sledujeme aktualni odkazy a jejich hodnoty. Pripadne komentare objevujici se v pracovnim editoru PyCharm.\n"
   ]
  },
  {
   "cell_type": "markdown",
   "metadata": {},
   "source": [
    "## Opravime nas zapis"
   ]
  },
  {
   "cell_type": "code",
   "execution_count": null,
   "metadata": {},
   "outputs": [],
   "source": [
    "JMENO_SOUBORU = \"countries_and_cities.txt\"\n",
    "\n",
    "for udaj in nacti_txt_soubor(JMENO_SOUBORU):\n",
    "    # TODO\n",
    "\n",
    "    else:\n",
    "        # TODO"
   ]
  },
  {
   "cell_type": "code",
   "execution_count": null,
   "metadata": {},
   "outputs": [],
   "source": []
  }
 ],
 "metadata": {
  "kernelspec": {
   "display_name": "Python 3",
   "language": "python",
   "name": "python3"
  },
  "language_info": {
   "codemirror_mode": {
    "name": "ipython",
    "version": 3
   },
   "file_extension": ".py",
   "mimetype": "text/x-python",
   "name": "python",
   "nbconvert_exporter": "python",
   "pygments_lexer": "ipython3",
   "version": "3.8.5"
  }
 },
 "nbformat": 4,
 "nbformat_minor": 4
}
