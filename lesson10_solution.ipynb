{
 "cells": [
  {
   "cell_type": "markdown",
   "metadata": {},
   "source": [
    "# Engeto, Python akademie 2021, lekce#10"
   ]
  },
  {
   "cell_type": "markdown",
   "metadata": {},
   "source": [
    "## Obsah lekce\n",
    "1. Zajimave odkazy\n",
    "2. Uvod k importovani\n",
    "3. Knihovny v Pythonu\n",
    "4. Proces importovani\n",
    "5. Rozdeleni knihoven podle puvodu\n",
    "\n",
    "## 1. Zajimave odkazy\n",
    "- [Neoficialni dokumentace prirazovaciho operatoru (realpython.com)](https://realpython.com/lessons/assignment-expressions/)\n",
    "- [Standartni instalator balicku pro Python pip/pip3 (pypi.org)](https://pypi.org/project/pip/)\n",
    "- [Hledani modulu pomoci interpretu Pythonu (python.org)](https://docs.python.org/3/tutorial/modules.html#the-module-search-path)\n",
    "- [Neoficialni dokumentace o ucelu souboru __init__.py](https://yasoob.me/2013/07/28/what-is-__init__-py/)\n",
    "- [Jak nainstalovat knihovny tretich stran pomoci Pycharm (jetbrains.com)](https://www.jetbrains.com/help/pycharm/installing-uninstalling-and-upgrading-packages.html)\n",
    "- [Oficialni dokumentace modulu random (python.org)](https://docs.python.org/3/library/random.html)\n",
    "- [Oficialni dokumentace modulu datetime (python.org)](https://docs.python.org/3/library/datetime.html)\n",
    "- [Oficialni dokumentace modulu os (python.org)](https://docs.python.org/3/library/os.html)\n",
    "\n",
    "\n",
    "## 2. Uvod k importovani"
   ]
  },
  {
   "cell_type": "markdown",
   "metadata": {},
   "source": [
    "Praktickou ukazkou pro tento tematicky celek bude hra **obesenec** (EN: hangman). Prvnim krokem bude definovat pomocne promenne, ktere budeme ve hre potrebovat:\n",
    "\n",
    "- hadane slovo `SLOVO` (nejprve zadame jedine slovo)\n",
    "- uzivateli demonstrovanou tajenku `tajenka` (misto pismen obsahuje podtrzitka)\n",
    "- pocet zivotu `zivoty` (pro nase ucely nechame nastavenou hodnotu `7`)\n",
    "- pomocnou promennou `hra_bezi` (na ni postavime cyklus)"
   ]
  },
  {
   "cell_type": "code",
   "execution_count": null,
   "metadata": {},
   "outputs": [],
   "source": [
    "# TODO\n",
    "SLOVO = \"obesenec\"            # libovolne slovo pro zkouseni\n",
    "tajenka = len(SLOVO) * [\"_\"]  # nelze pouzit string (string = immutable)\n",
    "zivoty = 7\n",
    "hra_bezi = True"
   ]
  },
  {
   "cell_type": "markdown",
   "metadata": {},
   "source": [
    "Nejprve napise cyklus na jehoz zaklade cela hra pobezi porad dokola, dokud hrac nevyhraje/neprohraje. V prubehu **kazdeho kola** musime uzivateli sdelit stav hadani, nechat jej zadat pismeno/cele slovo:"
   ]
  },
  {
   "cell_type": "code",
   "execution_count": null,
   "metadata": {},
   "outputs": [],
   "source": [
    "# TODO\n",
    "while hra_bezi and zivoty > 0:\n",
    "    print(f\"TAJENKA: {' '.join(tajenka)}, ZIVOTY: {zivoty}\")\n",
    "    hadani = input(\"Hadej pismeno nebo cele slovo:\")\n",
    "\n",
    "    if hadani == SLOVO:\n",
    "        hra_bezi = False\n",
    "\n",
    "    elif len(hadani) == 1 and hadani in SLOVO:\n",
    "        print()\n",
    "\n",
    "    else:\n",
    "        zivoty = zivoty - 1"
   ]
  },
  {
   "cell_type": "markdown",
   "metadata": {},
   "source": [
    "Zaver hry potom ziskame ukoncenim cyklu pomoci promenne `hra_bezi` (pokud uzivatel vyhraje), pripadne pomoci `zivoty` (pokud uzivatel prohraje):"
   ]
  },
  {
   "cell_type": "code",
   "execution_count": null,
   "metadata": {},
   "outputs": [],
   "source": [
    "else: # TODO\n",
    "    if not hra_probiha:\n",
    "        print(f\"TAJENKA: {slovo}\", \"Super, zvladl jsi to!\", sep=\"\\n\")\n",
    "    else:\n",
    "        print(f\"Prohrals:( snad priste\", f\"Hledane slovo: *{SLOVO}*\", sep=\"\\n\")"
   ]
  },
  {
   "cell_type": "markdown",
   "metadata": {},
   "source": [
    "### Co muzeme dale upravit?\n",
    "1. Pridat *vice* hadanych slov\n",
    "2. Zajistit *nahodny* vyber slova\n",
    "3. Vykreslit *menici se figurku* po kazdem ztracenem zivote\n",
    "4. Zajistit, *mene upovidany* vystup\n",
    "\n",
    "### Jak to provest?\n",
    "Na vsechny ctyri vyse uvedene kroky muzeme pouzit kus kodu, ktery nekdo pred nami jiz napsal. Proto si dale budeme povidat o knihovnach."
   ]
  },
  {
   "cell_type": "markdown",
   "metadata": {},
   "source": [
    "## 3. Knihovny v Pythonu\n",
    "\n",
    "Podle struktury muzeme knihovny v Pythonu rozdelit na:<br />\n",
    "1. **Moduly**\n",
    "2. **Baliky**\n",
    "\n",
    "### Moduly\n",
    "Modulem je kazdy soubor, ktery ma priponu `py` (tedy soubor Pythonu). Stejne jako jine soubory i moduly obsahuji promenne, podminky, funkce, tridy, atd.<br />\n",
    "\n",
    "Vsechny mate k dispozi od te chvile, kdy jste si nainstalovali interpret Pythonu, jazyk a samozrejme standartni moduly (mohou se lisite podle aktualni verze Pythonu).<br />\n",
    "\n",
    "Nejprve si zkusime vytvorit & pouzit vlastni jednoduchy modul:"
   ]
  },
  {
   "cell_type": "code",
   "execution_count": 1,
   "metadata": {},
   "outputs": [
    {
     "ename": "NameError",
     "evalue": "name 'utils' is not defined",
     "output_type": "error",
     "traceback": [
      "\u001b[0;31m---------------------------------------------------------------------------\u001b[0m",
      "\u001b[0;31mNameError\u001b[0m                                 Traceback (most recent call last)",
      "\u001b[0;32m<ipython-input-1-df121e0f48fd>\u001b[0m in \u001b[0;36m<module>\u001b[0;34m\u001b[0m\n\u001b[1;32m      1\u001b[0m print(\n\u001b[0;32m----> 2\u001b[0;31m     \u001b[0;34mf\"Jmenuji se: {utils.UDAJE['jmeno']}\"\u001b[0m\u001b[0;34m,\u001b[0m\u001b[0;34m\u001b[0m\u001b[0;34m\u001b[0m\u001b[0m\n\u001b[0m\u001b[1;32m      3\u001b[0m     \u001b[0;34mf\"Muj email je: {utils.UDAJE['email']}\"\u001b[0m\u001b[0;34m,\u001b[0m\u001b[0;34m\u001b[0m\u001b[0;34m\u001b[0m\u001b[0m\n\u001b[1;32m      4\u001b[0m     \u001b[0msep\u001b[0m \u001b[0;34m=\u001b[0m \u001b[0;34m\"\\n\"\u001b[0m\u001b[0;34m\u001b[0m\u001b[0;34m\u001b[0m\u001b[0m\n\u001b[1;32m      5\u001b[0m )\n",
      "\u001b[0;31mNameError\u001b[0m: name 'utils' is not defined"
     ]
    }
   ],
   "source": [
    "print(\n",
    "    f\"Jmenuji se: {utils.UDAJE['jmeno']}\",\n",
    "    f\"Muj email je: {utils.UDAJE['email']}\",\n",
    "    sep = \"\\n\"\n",
    ")"
   ]
  },
  {
   "cell_type": "markdown",
   "metadata": {},
   "source": [
    "Pokud spustime predchozi funkci `print` dostaneme `NameError`, protoze pouzita promenna `DICT_EXAMPLE` v nasem souboru jeste neni nahrana.<br />\n",
    "\n",
    "Pokud se souborem `utils.py` chceme pracovat, musime jej nahrat (_importovat_):"
   ]
  },
  {
   "cell_type": "code",
   "execution_count": null,
   "metadata": {},
   "outputs": [],
   "source": [
    "import utils  # TODO"
   ]
  },
  {
   "cell_type": "code",
   "execution_count": null,
   "metadata": {},
   "outputs": [],
   "source": [
    "print(\n",
    "    f\"Jmenuji se: {utils.UDAJE['jmeno']}\",\n",
    "    f\"Muj email je: {utils.UDAJE['email']}\",\n",
    "    sep = \"\\n\"\n",
    ")"
   ]
  },
  {
   "cell_type": "markdown",
   "metadata": {},
   "source": [
    "Vsechny moduly, ktere jste si nainstalovali muzete dohledat u sebe na disku (os linux napr. `/usr/lib/python3/`).\n",
    "\n",
    "### Modul decimal"
   ]
  },
  {
   "cell_type": "code",
   "execution_count": null,
   "metadata": {},
   "outputs": [],
   "source": [
    "from decimal import *"
   ]
  },
  {
   "cell_type": "code",
   "execution_count": null,
   "metadata": {},
   "outputs": [],
   "source": [
    "# TODO\n",
    "getcontext().prec = 4\n",
    "Decimal(1) / Decimal(7)"
   ]
  },
  {
   "cell_type": "markdown",
   "metadata": {},
   "source": [
    "### Modul datetime"
   ]
  },
  {
   "cell_type": "code",
   "execution_count": null,
   "metadata": {},
   "outputs": [],
   "source": [
    "import datetime"
   ]
  },
  {
   "cell_type": "code",
   "execution_count": null,
   "metadata": {},
   "outputs": [],
   "source": [
    "# TODO\n",
    "nyni_mame = datetime.datetime.now()\n",
    "# print(f\"Aktualni cas: {str(nyni_mame)}\")"
   ]
  },
  {
   "cell_type": "markdown",
   "metadata": {},
   "source": [
    "Aktualni cas je potreba naformatovat funkci `strftime`:"
   ]
  },
  {
   "cell_type": "code",
   "execution_count": null,
   "metadata": {},
   "outputs": [],
   "source": [
    "# TODO\n",
    "print(\n",
    "    f\"DATUM: {nyni_mame.strftime('%Y-%m-%d')}\",\n",
    "    f\"CAS:   {nyni_mame.strftime('%H:%M:%S')}\",\n",
    "    sep=\"\\n\"\n",
    ")"
   ]
  },
  {
   "cell_type": "markdown",
   "metadata": {},
   "source": [
    "### Modul pprint"
   ]
  },
  {
   "cell_type": "code",
   "execution_count": null,
   "metadata": {},
   "outputs": [],
   "source": [
    "import pprint  # TODO"
   ]
  },
  {
   "cell_type": "code",
   "execution_count": null,
   "metadata": {},
   "outputs": [],
   "source": [
    "UDAJE = {\"jmeno\": \"Matous\", \"prijmeni\": \"Holinka\", \"email\": \"matous@matous.cz\",\n",
    "    \"adresa\": \"Kocourkov, U Potoka 28\"}\n",
    "\n",
    "pprint.pprint(UDAJE)"
   ]
  },
  {
   "cell_type": "markdown",
   "metadata": {},
   "source": [
    "### Baliky\n",
    "\n",
    "Balik je v podstate sbirka vice modulu (tedy souboru `py`). Najdeme je spolecne umistene v jednom adresari. Obsahuji soubory s instrukcemi, dale `__init__.py` a `__pycache__` adresar.<br />\n",
    "\n",
    "\n",
    "### Soubor `__init__.py`\n",
    "Tento, nekdy prazdny, soubor umoznuje interpretu najit & nahrat moduly. Pozor! nemusi byt prazdny, nekdy obsahuje dokumentace, zavislosti, aj.<br />\n",
    "\n",
    "### Adresar `pycache`\n",
    "Tato slozka vznika, kdyz spoustime kod a interpret jej zkompiluje na bytecode. Nasledne schova zkompilovany kod do tohoto adresare.<br />\n",
    "\n",
    "Opet si nejdriv vytvorime vlastni baliky & nahrajeme jej:"
   ]
  },
  {
   "cell_type": "code",
   "execution_count": null,
   "metadata": {},
   "outputs": [],
   "source": [
    "# main.py\n",
    "print(\n",
    "    f\"JMENO:\\t\\t{emp['jmeno']}\",\n",
    "    f\"ADRESA:\\t\\t{emp['adresa']}\",\n",
    "    f\"VYPLATA:\\t{sal['Matous Nejaky']},-\",\n",
    "    sep=\"\\n\"\n",
    ")"
   ]
  },
  {
   "cell_type": "code",
   "execution_count": null,
   "metadata": {},
   "outputs": [],
   "source": [
    "# personal_data/employees.py\n",
    "DICT_EMPLOYEES = {\n",
    "    \"jmeno\": \"Matous\",\n",
    "    \"prijmeni\": \"Nejaky\",\n",
    "    \"email\": \"matous@matous.cz\",\n",
    "    \"adresa\": \"Kocourkov, U Potoka 28\"\n",
    "}"
   ]
  },
  {
   "cell_type": "code",
   "execution_count": null,
   "metadata": {},
   "outputs": [],
   "source": [
    "# personal_data/salaries.py\n",
    "DICT_SALARIES = {\n",
    "    \"Matous Nejaky\": 15_000,\n",
    "    \"Petr Makovy\": 12_000\n",
    "}"
   ]
  },
  {
   "cell_type": "markdown",
   "metadata": {},
   "source": [
    "### Souhrn\n",
    "1. Baliky se nachazeji ve stejnem adresari jako moduly. Moduly -> soubory, baliky -> adresare.\n",
    "2. Diky knihovnam nemusime tvorit & prepisovat stejny zapis\n",
    "3. Opakovane pouziti na ruznych mistech a ruznych souborech\n",
    "4. Prehlednejsi kod"
   ]
  },
  {
   "cell_type": "markdown",
   "metadata": {},
   "source": [
    "## 4. Zpusoby nahravani\n",
    "Pri nahravani knihoven mame v podstate 3 moznosti:\n",
    "1. `import pprint` - nahrajeme cely modul. Spoustime jako `modul.funkce` (muzeme doplnit alias)"
   ]
  },
  {
   "cell_type": "code",
   "execution_count": null,
   "metadata": {},
   "outputs": [],
   "source": [
    "import pprint"
   ]
  },
  {
   "cell_type": "code",
   "execution_count": null,
   "metadata": {},
   "outputs": [],
   "source": [
    "FILM_1 = {\n",
    "  \"JMENO\": \"Shawshank Redemption\",\n",
    "  \"HODNOCENI\": \"93/100\",\n",
    "  \"ROK\": 1994,\n",
    "  \"REZISER\": \"Frank Darabont\",\n",
    "  \"STOPAZ\": 144,\n",
    "}\n",
    "pprint.pprint(dir())"
   ]
  },
  {
   "cell_type": "markdown",
   "metadata": {},
   "source": [
    "2. `from pprint import *` - nahrajeme cely modul. Spoustime jako `funkce`"
   ]
  },
  {
   "cell_type": "code",
   "execution_count": null,
   "metadata": {},
   "outputs": [],
   "source": [
    "from pprint import *"
   ]
  },
  {
   "cell_type": "code",
   "execution_count": null,
   "metadata": {},
   "outputs": [],
   "source": [
    "FILM_1 = {\n",
    "  \"JMENO\": \"Shawshank Redemption\",\n",
    "  \"HODNOCENI\": \"93/100\",\n",
    "  \"ROK\": 1994,\n",
    "  \"REZISER\": \"Frank Darabont\",\n",
    "  \"STOPAZ\": 144,\n",
    "}\n",
    "\n",
    "pprint(dir())"
   ]
  },
  {
   "cell_type": "markdown",
   "metadata": {},
   "source": [
    "3. `from pprint import pprint` nahrajeme pouze vybranou cast. Spoustime jako `funkce` (muzeme doplnit alias)"
   ]
  },
  {
   "cell_type": "code",
   "execution_count": null,
   "metadata": {},
   "outputs": [],
   "source": [
    "from pprint import pprint"
   ]
  },
  {
   "cell_type": "code",
   "execution_count": null,
   "metadata": {},
   "outputs": [],
   "source": [
    "FILM_1 = {\n",
    "  \"JMENO\": \"Shawshank Redemption\",\n",
    "  \"HODNOCENI\": \"93/100\",\n",
    "  \"ROK\": 1994,\n",
    "  \"REZISER\": \"Frank Darabont\",\n",
    "  \"STOPAZ\": 144,\n",
    "}\n",
    "\n",
    "pprint(dir())"
   ]
  },
  {
   "cell_type": "markdown",
   "metadata": {},
   "source": [
    "4. `as` doplneni aliasu `import pprint as pp` nebo `from pprint import pprint as pp`"
   ]
  },
  {
   "cell_type": "code",
   "execution_count": null,
   "metadata": {},
   "outputs": [],
   "source": [
    "from pprint import pprint as pp"
   ]
  },
  {
   "cell_type": "code",
   "execution_count": null,
   "metadata": {},
   "outputs": [],
   "source": [
    "FILM_1 = {\n",
    "  \"JMENO\": \"Shawshank Redemption\",\n",
    "  \"HODNOCENI\": \"93/100\",\n",
    "  \"ROK\": 1994,\n",
    "  \"REZISER\": \"Frank Darabont\",\n",
    "  \"STOPAZ\": 144,\n",
    "}\n",
    "\n",
    "pp(dir())"
   ]
  },
  {
   "cell_type": "markdown",
   "metadata": {},
   "source": [
    "## 5. Hledani modulu\n",
    "Proces, kterym interpret hleda knihovny:\n",
    "1. Interpret uvidi jeden ze zpusobu, kterym lze nahrat knihovnu\n",
    "2. Prohleda zabudovane moduly: `sys.builtin_module_names`:"
   ]
  },
  {
   "cell_type": "code",
   "execution_count": null,
   "metadata": {},
   "outputs": [],
   "source": [
    "import sys; sys.builtin_module_names"
   ]
  },
  {
   "cell_type": "markdown",
   "metadata": {},
   "source": [
    "3. Pote prohleda: `sys.modules` (pokud ma os podporu symlinku)"
   ]
  },
  {
   "cell_type": "code",
   "execution_count": null,
   "metadata": {},
   "outputs": [],
   "source": [
    "import sys; sys.modules"
   ]
  },
  {
   "cell_type": "markdown",
   "metadata": {},
   "source": [
    "4. Pote prohleda: `sys.path[0]`, aktualni adresar (3. krok pokud os nepodporuje symlinky)\n",
    "5. Pote prohleda: `sys.path[1:]`"
   ]
  },
  {
   "cell_type": "code",
   "execution_count": null,
   "metadata": {},
   "outputs": [],
   "source": [
    "import sys; sys.path"
   ]
  },
  {
   "cell_type": "markdown",
   "metadata": {},
   "source": [
    "6. Pokud knihovnu doposud nenasel, vysledek bude vyjimka `ModuleNotFoundError`\n",
    "7. Pokud knihovnu nasel, zkompiluje & nahraje ji"
   ]
  },
  {
   "cell_type": "markdown",
   "metadata": {},
   "source": [
    "## 6. Rozdeleni knihoven podle puvodu\n",
    "Podle puvodu rozlisujeme:\n",
    "1. Standartni knihovny (od instalace)\n",
    "2. Knihovny tretich stran (doinstalovane pomoci package manazeru)\n",
    "\n",
    "## Standartni knihovny\n",
    "\n",
    "### Modul random\n",
    "\n",
    "Pokud potrebujeme vyuzit prvku pseudo-nahody, pouzijeme standartni modul `random` a jeho funkce:"
   ]
  },
  {
   "cell_type": "code",
   "execution_count": null,
   "metadata": {},
   "outputs": [],
   "source": [
    "from random import choice  # TODO\n",
    "\n",
    "zivoty = 7\n",
    "hra_bezi = True"
   ]
  },
  {
   "cell_type": "code",
   "execution_count": null,
   "metadata": {},
   "outputs": [],
   "source": [
    "def vytvor_tajenku() -> tuple:\n",
    "    # TODO\n",
    "    vyber_slov = [\"obesenec\", \"autobus\", \"klavesnice\", \"nedele\"]\n",
    "    return (slovo := choice(vyber_slov), [\"_\"] * len(slovo))"
   ]
  },
  {
   "cell_type": "markdown",
   "metadata": {},
   "source": [
    "### Vlastni modul `figurka.py`\n",
    "\n",
    "Nahrajeme vlastni modul umisteny ve stejnem adresari jako ostatni pracovni soubory a nahrajeme slovnik `hangman`:"
   ]
  },
  {
   "cell_type": "code",
   "execution_count": null,
   "metadata": {},
   "outputs": [],
   "source": [
    "import figurka  # TODO"
   ]
  },
  {
   "cell_type": "markdown",
   "metadata": {},
   "source": [
    "Dale dopiseme funkci, ktera bude mit na starost vypisovat aktualni stav tajenky a zivotu pro uzivatele. Na zaver vyhodnoti, jestli hrac vyhral nebo prohral:"
   ]
  },
  {
   "cell_type": "code",
   "execution_count": null,
   "metadata": {},
   "outputs": [],
   "source": [
    "def aktualni_stav_hry(tajenka: list, zivoty: int, beh_hry: bool) -> None:\n",
    "    # TODO\n",
    "    status = f\"TAJENKA: {' '.join(tajenka)}, ZIVOTY: {zivoty}\"\n",
    "    print(figurka.hangman.get(7 - zivoty), status, sep=\"\\n\")\n",
    "    \n",
    "    if not beh_hry and zivoty > 0:\n",
    "        print(\"Vyhral jsi! Gratulace\")\n",
    "    elif zivoty == 0:\n",
    "        print(\"Prohral jsi! Snad priste\")"
   ]
  },
  {
   "cell_type": "markdown",
   "metadata": {},
   "source": [
    "### Modul os\n",
    "Pomoci modulu `os` redukujeme vystupy ze hry pouze na aktualni.<br />\n",
    "\n",
    "**pozn.** Kvuli praci v ramci Jupyter notebook prostredi musim pouzil rozsirujici modul `IPython.display`, abych mohl prepisovat ve vystupu:"
   ]
  },
  {
   "cell_type": "code",
   "execution_count": null,
   "metadata": {},
   "outputs": [],
   "source": [
    "from IPython.display import clear_output # TODO"
   ]
  },
  {
   "cell_type": "code",
   "execution_count": null,
   "metadata": {},
   "outputs": [],
   "source": [
    "def aktualni_stav_hry(tajenka: list, zivoty: int, beh_hry: bool) -> None:\n",
    "    # os.system(\"clear\") / os.system(\"cls\")\n",
    "    clear_output()\n",
    "    # TODO\n",
    "    status = f\"TAJENKA: {' '.join(tajenka)}, ZIVOTY: {zivoty}\"\n",
    "    print(figurka.hangman.get(7 - zivoty), status, sep=\"\\n\")\n",
    "    \n",
    "    if not beh_hry and zivoty > 0:\n",
    "        print(\"Vyhral jsi! Gratulace\")\n",
    "    elif zivoty == 0:\n",
    "        print(\"Prohral jsi! Snad priste\")"
   ]
  },
  {
   "cell_type": "markdown",
   "metadata": {},
   "source": [
    "## Overeni odhadu hrace\n",
    "Posledni funkci, kterou si napiseme bude overovani. Jde v podstate o radky v nasi puvodni podminkove vetvi `elif`. Cely tento zapis nahradime volanim nove funkce `zkontroluj_vybrane_pismeno`:"
   ]
  },
  {
   "cell_type": "code",
   "execution_count": null,
   "metadata": {},
   "outputs": [],
   "source": [
    "def zkontroluj_vybrane_pismeno(pismeno: str, slovo: str, tajenka: list) -> bool: # TODO\n",
    "    # TODO\n",
    "    for index, symbol in enumerate(slovo):\n",
    "        if symbol == pismeno:\n",
    "            tajenka[index] = pismeno\n",
    "    \n",
    "    # moznost napsat ternarni operator\n",
    "#     return False if \"_\" not in tajenka else True\n",
    "\n",
    "    # specialni hack pomoci integer hodnot boolean hodnot\n",
    "#     return (False, True)[\"_\" in tajenka]\n",
    "\n",
    "    if \"_\" not in tajenka:\n",
    "        return False\n",
    "    else:\n",
    "        return True"
   ]
  },
  {
   "cell_type": "markdown",
   "metadata": {},
   "source": [
    "## Zaverecny zapis\n",
    "Mame doplnene tyto funkce:\n",
    "1. `vytvor_tajenku` - pro vyber slova & vytvoreni tajenky\n",
    "2. `aktualni_stav_hry` - pro vypis aktualniho deni ve hre\n",
    "3. `zkontroluj_vybrane_pismeno` - pro kontrolu hracova hadaneho pismena\n",
    "<br>\n",
    "\n",
    "Soucasne jsme upravili zapis z minule lekce, aby nedochazelo k vyjimkam souvisejicim s neexistujicimi nazvy promennych, funkci, aj.<br>"
   ]
  },
  {
   "cell_type": "code",
   "execution_count": null,
   "metadata": {},
   "outputs": [],
   "source": [
    "slovo, tajenka = vytvor_tajenku()  # TODO\n",
    "\n",
    "while hra_bezi and zivoty > 0:\n",
    "    aktualni_stav_hry(tajenka, zivoty, hra_bezi)  # TODO\n",
    "    hadani = input(\"Hadej pismeno nebo cele slovo:\")\n",
    "\n",
    "    if hadani == slovo:\n",
    "        hra_bezi = False\n",
    "\n",
    "    elif len(hadani) == 1 and hadani in slovo:\n",
    "        hra_bezi = zkontroluj_vybrane_pismeno(hadani, slovo, tajenka)  # TODO\n",
    "\n",
    "    else:\n",
    "        zivoty -= 1\n",
    "\n",
    "aktualni_stav_hry(slovo, zivoty, hra_bezi)  # TODO"
   ]
  },
  {
   "cell_type": "markdown",
   "metadata": {},
   "source": [
    "### Knihovny tretich stran\n",
    "\n",
    "Jelikoz je knihoven pro Python velke mnozstvi, cast tech nejpouzivanejsi byla vybrana komunitou jako **standartni** a zbytek si uzivatel musi dohledat a nainstalovat rucne.<br />\n",
    "\n",
    "<p align=\"center\">\n",
    "  <img alt=\"terminal-icon\" width=\"80px\" src=\"https://cubiclenate.files.wordpress.com/2018/04/terminal-icon.png?w=286&h=286\" />\n",
    "</p>\n",
    "\n",
    "### Pomoci prikazoveho radku\n",
    "1. **Vytvorime virtualni pracovni prostredi**:\n",
    "```bash\n",
    "python -m venv <jmeno_prostredi>\n",
    "```\n",
    "\n",
    "2. **Aktivujeme** virtualni pracovni prostredi. Po aktivaci dostaneme na zacatku dotazovaciho radku zavorku se jmenem prostredi (pr. `(env)`):\n",
    "```bash\n",
    "source <jmeno_prostredi>/bin/activate\n",
    "```\n",
    "\n",
    "3. Overime dostupnost **spravce balicku** `pip3 --version`\n",
    "4. Pokud mame nainstalovany, instalujeme balicky (nahled [pypi.org](https://pypi.org/)):\n",
    "```bash\n",
    "pip3 install <jmeno_balicku>         # instalace\n",
    "pip3 uninstall <jmeno_balicku>       # odstraneni\n",
    "pip3 --help                          # napoveda\n",
    "```\n",
    "\n",
    "5. Vytvoreni souboru `requirements.txt` se zavislostmi:\n",
    "```bash\n",
    "pip3 freeze > requirements.txt\n",
    "```\n",
    "\n",
    "6. Pomoci zavilosti mohou ostatni uzivatele nainstalovat externi knihovny z naseho virtualniho prostredi:\n",
    "```bash\n",
    "pip3 install -r requirements.txt\n",
    "```\n",
    "<br />\n",
    "<p align=\"center\">\n",
    "  <img alt=\"pycharm-icon\" width=\"80px\" src=\"https://caktus-website-production-2015.s3.amazonaws.com/media/blog-images/logo.png\" />\n",
    "</p>\n",
    "\n",
    "### Pomoci PyCharm\n",
    "1. Spustime Pycharm a otevreme projekt\n",
    "2. `ctrl + alt + s` -> Settings\n",
    "3. -> Project: <jmeno_projektu>\n",
    "4. -> Project interpreter\n",
    "5. ⚙ `Add...` Pridat prostredi/pouzit stavajici\n",
    "6. ➕ Instalovat knihovny pomoci symbolu `+` dole pod nabidkou\n",
    "7. `Terminal` dole na liste pro export zavislosti (`pip3 freeze > requirements.txt`)"
   ]
  }
 ],
 "metadata": {
  "kernelspec": {
   "display_name": "Python 3",
   "language": "python",
   "name": "python3"
  },
  "language_info": {
   "codemirror_mode": {
    "name": "ipython",
    "version": 3
   },
   "file_extension": ".py",
   "mimetype": "text/x-python",
   "name": "python",
   "nbconvert_exporter": "python",
   "pygments_lexer": "ipython3",
   "version": "3.8.5"
  }
 },
 "nbformat": 4,
 "nbformat_minor": 4
}
